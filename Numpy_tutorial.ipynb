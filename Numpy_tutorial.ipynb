{
  "nbformat": 4,
  "nbformat_minor": 0,
  "metadata": {
    "colab": {
      "provenance": [],
      "collapsed_sections": [
        "vG18IRQ1heVj",
        "njNe2GQaU4re",
        "dLdaciFEYihK",
        "e9D7o01QtBiS",
        "5XZsn15Iwwsa",
        "ihSGyR0LFOnC",
        "gP-x-QW_JxNR",
        "3eB4aGyHQoVv",
        "roC2506UVzMs",
        "xJYHsbeyZsJH",
        "YouuE6xEfzp2"
      ]
    },
    "kernelspec": {
      "name": "python3",
      "display_name": "Python 3"
    },
    "language_info": {
      "name": "python"
    }
  },
  "cells": [
    {
      "cell_type": "markdown",
      "source": [
        "**General definitions**"
      ],
      "metadata": {
        "id": "h-ROYip5hxx0"
      }
    },
    {
      "cell_type": "code",
      "source": [
        "import numpy as np\n",
        "from numpy.polynomial.polynomial import polygrid2d\n",
        "from numpy.polynomial.polynomial import polygrid3d\n",
        "import random\n",
        "import pandas as pd\n",
        "from PIL import Image\n",
        "import matplotlib.pyplot as plt"
      ],
      "metadata": {
        "id": "Y_2XXvfihuQJ"
      },
      "execution_count": null,
      "outputs": []
    },
    {
      "cell_type": "markdown",
      "source": [
        "# **Topic 1: NumPy Array**"
      ],
      "metadata": {
        "id": "vG18IRQ1heVj"
      }
    },
    {
      "cell_type": "code",
      "execution_count": null,
      "metadata": {
        "id": "naOu8xLkhRJO"
      },
      "outputs": [],
      "source": [
        "#How to create an empty and a full NumPy array?\n",
        "empty = np.empty((2, 2))\n",
        "full = np.full((2, 2), 2)\n",
        "print(\"01 - How to create an empty and a full NumPy array?\")\n",
        "print(\"Empty:\\n\", empty)\n",
        "print(\"Full:\\n\", full)"
      ]
    },
    {
      "cell_type": "code",
      "source": [
        "#Create a Numpy array filled with all zeros\n",
        "zeros = np.zeros((2, 2))\n",
        "print(\"02 - Create a Numpy array filled with all zeros\")\n",
        "print(\"Zeros:\\n\", zeros)"
      ],
      "metadata": {
        "id": "DJ3wWyjTSZtD"
      },
      "execution_count": null,
      "outputs": []
    },
    {
      "cell_type": "code",
      "source": [
        "#Create a Numpy array filled with all ones\n",
        "ones = np.ones((2, 2))\n",
        "print(\"03 - Create a Numpy array filled with all ones\")\n",
        "print(\"Ones:\\n\", ones)"
      ],
      "metadata": {
        "id": "pviZ9IAUScoh"
      },
      "execution_count": null,
      "outputs": []
    },
    {
      "cell_type": "code",
      "source": [
        "#Check whether a Numpy array contains a specified row\n",
        "array = np.array([[1, 1, 1], [2, 2, 2], [3, 3, 3]])\n",
        "matriz_of_checks = np.all(array == [2, 2, 2], axis = 1)\n",
        "contains = np.any(matriz_of_checks)\n",
        "print(\"04 - Check whether a Numpy array contains a specified row\")\n",
        "print(\"Check:\", contains)"
      ],
      "metadata": {
        "id": "O3xOjTEzSctI"
      },
      "execution_count": null,
      "outputs": []
    },
    {
      "cell_type": "code",
      "source": [
        "#How to Remove rows in Numpy array that contains non-numeric values?\n",
        "array = np.array([[1, 1, 1], [2, np.nan, 2], ['N/A', 3, 3], [0, 0, np.inf]])\n",
        "remove_string = np.where(np.isin(array, ['N/A']), np.nan, array).astype(float) #if have only np.nan, not need these line\n",
        "remove_inf = remove_string[~np.ma.fix_invalid(remove_string).mask.any(axis=1)]\n",
        "remove_nan = remove_inf[~np.isnan(remove_inf).any(axis=1)]\n",
        "print(\"05 - How to Remove rows in Numpy array that contains non-numeric values?\")\n",
        "print(\"Only numbers:\", remove_nan)"
      ],
      "metadata": {
        "id": "tXrNT31cScwK"
      },
      "execution_count": null,
      "outputs": []
    },
    {
      "cell_type": "code",
      "source": [
        "#Remove single-dimensional entries from the shape of an array\n",
        "array = np.array([[[1], [2], [3]], [[4], [5], [6]]])\n",
        "remove = np.squeeze(array)\n",
        "print(\"06 - Remove single-dimensional entries from the shape of an array\")\n",
        "print(\"Not single-dimensional:\\n\", remove)"
      ],
      "metadata": {
        "id": "hnm2y4LWSczL"
      },
      "execution_count": null,
      "outputs": []
    },
    {
      "cell_type": "code",
      "source": [
        "#Find the number of occurrences of a sequence in a NumPy array\n",
        "array = np.array([[1, 2, 3], [2, 2, 4], [5, 2, 2]])\n",
        "for i in range(len(array)):\n",
        "    count = repr(array).count(\"2, 2\")\n",
        "print(\"07 - Find the number of occurrences of a sequence in a NumPy array\")\n",
        "print(\"Occurences of [2, 2]:\", count)"
      ],
      "metadata": {
        "id": "WPZqFA34Sc2K"
      },
      "execution_count": null,
      "outputs": []
    },
    {
      "cell_type": "code",
      "source": [
        "#Find the most frequent value in a NumPy array\n",
        "array = np.array([1, 1, 1, 2, 1, 1, 5, 2, 2])\n",
        "most_frequent_value = np.argmax(np.bincount(array))\n",
        "print(\"08 - Find the most frequent value in a NumPy array\")\n",
        "print(\"Most frequent value:\", most_frequent_value)"
      ],
      "metadata": {
        "id": "X58QJVV_Sc5B"
      },
      "execution_count": null,
      "outputs": []
    },
    {
      "cell_type": "code",
      "source": [
        "#Combining a one and a two-dimensional NumPy Array\n",
        "array = np.array([1, 2, 3])\n",
        "array_two = np.array([[4, 5, 6], [7, 8, 9]])\n",
        "combined_array = np.concatenate((np.expand_dims(array, axis=0), array_two), axis=0)\n",
        "print(\"09 - Combining a one and a two-dimensional NumPy Array\")\n",
        "print(\"Combining:\\n\", combined_array)"
      ],
      "metadata": {
        "id": "nzBllYgKSc7q"
      },
      "execution_count": null,
      "outputs": []
    },
    {
      "cell_type": "code",
      "source": [
        "#How to build an array of all combinations of two NumPy arrays?\n",
        "array = np.array([1, 2, 3])\n",
        "array_two = np.array([[4, 5, 6]])\n",
        "mesh = np.array(np.meshgrid(array, array_two))\n",
        "combinations = mesh.T\n",
        "print(\"10 - How to build an array of all combinations of two NumPy arrays?\")\n",
        "print(\"Combinations:\\n\", combinations)"
      ],
      "metadata": {
        "id": "EKTpMvb7Sc-g"
      },
      "execution_count": null,
      "outputs": []
    },
    {
      "cell_type": "code",
      "source": [
        "#How to add a border around a NumPy array?\n",
        "array = np.array([[1, 2, 3], [4, 5, 6], [7, 8, 9]])\n",
        "with_border = np.pad(array, 1)\n",
        "print(\"11 - How to add a border around a NumPy array?\")\n",
        "print(\"With border:\\n\", with_border)"
      ],
      "metadata": {
        "id": "Nj4tfNZ0SdBK"
      },
      "execution_count": null,
      "outputs": []
    },
    {
      "cell_type": "code",
      "source": [
        "#How to compare two NumPy arrays?\n",
        "array = np.array([0, 1, 2, 3, 4])\n",
        "array_two = np.array([5, 6, 7, 8, 9])\n",
        "compare = np.array_equal(array, array_two)\n",
        "print(\"12 - How to compare two NumPy arrays?\")\n",
        "print(\"With border:\", compare)"
      ],
      "metadata": {
        "id": "ad9zgEwSSdK5"
      },
      "execution_count": null,
      "outputs": []
    },
    {
      "cell_type": "code",
      "source": [
        "#How to check whether specified values are present in NumPy array?\n",
        "array = np.array([0, 1, 2, 3, 4])\n",
        "contains = 6 in array\n",
        "print(\"13 - How to check whether specified values are present in NumPy array?\")\n",
        "print(\"Contains:\", contains)"
      ],
      "metadata": {
        "id": "QobtdPH2SdNn"
      },
      "execution_count": null,
      "outputs": []
    },
    {
      "cell_type": "code",
      "source": [
        "#How to get all 2D diagonals of a 3D NumPy array?\n",
        "array = np.arange(3 * 4 * 4).reshape(3, 4, 4)\n",
        "diag_array = np.diagonal(array, axis1 = 1, axis2 = 2)\n",
        "print(\"14 - How to get all 2D diagonals of a 3D NumPy array?\")\n",
        "print(\"Diagonal array:\\n\", diag_array)"
      ],
      "metadata": {
        "id": "7kjbofHTS-Cw"
      },
      "execution_count": null,
      "outputs": []
    },
    {
      "cell_type": "code",
      "source": [
        "#Flatten a Matrix in Python using NumPy\n",
        "array = np.array([[1, 2, 3], [4, 5, 6]])\n",
        "flatten = array.flatten()\n",
        "print(\"15 - Flatten a Matrix in Python using NumPy\")\n",
        "print(\"Flatten:\", flatten)"
      ],
      "metadata": {
        "id": "IkFqbqv9S-M8"
      },
      "execution_count": null,
      "outputs": []
    },
    {
      "cell_type": "code",
      "source": [
        "#Flatten a 2d numpy array into 1d array\n",
        "array = np.array([[1, 2, 3], [4, 5, 6]])\n",
        "flatten = array.flatten()\n",
        "print(\"16 - Flatten a 2d numpy array into 1d array\")\n",
        "print(\"Flatten:\", flatten)"
      ],
      "metadata": {
        "id": "m6NN8wkaS-P6"
      },
      "execution_count": null,
      "outputs": []
    },
    {
      "cell_type": "code",
      "source": [
        "#Move axes of an array to new positions\n",
        "array = np.array([[1, 2, 3], [4, 5, 6]])\n",
        "swap = np.swapaxes(array, 0, -1)\n",
        "print(\"17 - Move axes of an array to new positions\")\n",
        "print(\"Swap:\\n\", swap)"
      ],
      "metadata": {
        "id": "n0VmGUXYS-Sy"
      },
      "execution_count": null,
      "outputs": []
    },
    {
      "cell_type": "code",
      "source": [
        "#Interchange two axes of an array\n",
        "array = np.array([[[1, 2, 3], [4, 5, 6]], [[7, 8, 9], [10, 11, 12]]])\n",
        "swap = np.swapaxes(array, 0, 1)\n",
        "print(\"18 - Interchange two axes of an array\")\n",
        "print(\"Swap:\\n\", swap)"
      ],
      "metadata": {
        "id": "dNtnPIpyS-V7"
      },
      "execution_count": null,
      "outputs": []
    },
    {
      "cell_type": "code",
      "source": [
        "#NumPy – Fibonacci Series using Binet Formula\n",
        "array = np.arange(1, 11)\n",
        "sqrtFive = np.sqrt(5)\n",
        "alpha = (1 + sqrtFive) / 2\n",
        "beta = (1 - sqrtFive) / 2\n",
        "Fn = np.rint(((alpha ** array) - (beta ** array)) / (sqrtFive))\n",
        "print(\"19 - NumPy – Fibonacci Series using Binet Formula\")\n",
        "print(\"Fibonacci serie:\", Fn)"
      ],
      "metadata": {
        "id": "7xnoSQ3tS-ZD"
      },
      "execution_count": null,
      "outputs": []
    },
    {
      "cell_type": "code",
      "source": [
        "#Counts the number of non-zero values in the array\n",
        "array = np.array([0, 1, 2, 3, 4, 5, 6, 7, 8, 9, 0, 0])\n",
        "numbers = np.count_nonzero(array)\n",
        "print(\"20 - Counts the number of non-zero values in the array\")\n",
        "print(\"Non-zeros:\", numbers)"
      ],
      "metadata": {
        "id": "0UpeOnFaTK0Y"
      },
      "execution_count": null,
      "outputs": []
    },
    {
      "cell_type": "code",
      "source": [
        "#Count the number of elements along a given axis\n",
        "array = np.array([[1, 2, 3], [4, 5, 6]])\n",
        "swap = np.swapaxes(array, 0, -1)\n",
        "print(\"21 - Count the number of elements along a given axis\")\n",
        "for i in range(len(array)):\n",
        "    print(f\"Elements in line {i}:\", np.size(array[i]))"
      ],
      "metadata": {
        "id": "ZkUAqCXiTK4E"
      },
      "execution_count": null,
      "outputs": []
    },
    {
      "cell_type": "code",
      "source": [
        "#Trim the leading and/or trailing zeros from a 1-D array\n",
        "array = np.array([0, 0, 0, 1, 2, 3, 4, 0, 0, 0])\n",
        "rem_zeros = np.trim_zeros(array)\n",
        "print(\"22 - Trim the leading and/or trailing zeros from a 1-D array\")\n",
        "print(\"Remove zeros:\", rem_zeros)"
      ],
      "metadata": {
        "id": "ySKe8FzKTK8O"
      },
      "execution_count": null,
      "outputs": []
    },
    {
      "cell_type": "code",
      "source": [
        "#Change data type of given numpy array\n",
        "array = np.array([0, 0, 0, 1, 2, 3, 4, 0, False, True])\n",
        "chg_type = array.astype(float)\n",
        "print(\"23 - Change data type of given numpy array\")\n",
        "print(\"Change type:\", chg_type)"
      ],
      "metadata": {
        "id": "TIKIaNWFTLAV"
      },
      "execution_count": null,
      "outputs": []
    },
    {
      "cell_type": "code",
      "source": [
        "#Reverse a numpy array\n",
        "array = np.array([0, 1, 2, 3, 4, 5, 6, 7])\n",
        "reverse = np.flip(array)\n",
        "print(\"24 - Reverse a numpy array\")\n",
        "print(\"Reverse array:\", reverse)"
      ],
      "metadata": {
        "id": "mED9XEo0TLEw"
      },
      "execution_count": null,
      "outputs": []
    },
    {
      "cell_type": "code",
      "source": [
        "#How to make a NumPy array read-only?\n",
        "array = np.array([0, 1, 2, 3, 4, 5, 6, 7])\n",
        "array.setflags(write=False)\n",
        "print(\"25 - How to make a NumPy array read-only?\")\n",
        "print(\"Value of array[0]:\", array[0])\n",
        "print(\"Error if write in array:\")\n",
        "array[0] = 2"
      ],
      "metadata": {
        "id": "FHFoUs9yTUXf"
      },
      "execution_count": null,
      "outputs": []
    },
    {
      "cell_type": "markdown",
      "source": [
        "# **Topic 2: Questions on NumPy Matrix**"
      ],
      "metadata": {
        "id": "njNe2GQaU4re"
      }
    },
    {
      "cell_type": "code",
      "source": [
        "#Get the maximum value from given matrix\n",
        "array = np.array([[1, 2, 3, 4], [-1, -2, -3, -4], [5, 6, 7, 8], [-5, -6, -7, -8]])\n",
        "max = np.amax(array)\n",
        "print(\"01 - Get the maximum value from given matrix\")\n",
        "print(\"Min value of matrix:\", max)"
      ],
      "metadata": {
        "id": "DUjR_CUvU8nZ"
      },
      "execution_count": null,
      "outputs": []
    },
    {
      "cell_type": "code",
      "source": [
        "#Get the minimum value from given matrix\n",
        "array = np.array([[1, 2, 3, 4], [-1, -2, -3, -4], [5, 6, 7, 8], [-5, -6, -7, -8]])\n",
        "min = np.amin(array)\n",
        "print(\"02 - Get the minimum value from given matrix\")\n",
        "print(\"Min value of matrix:\", min)"
      ],
      "metadata": {
        "id": "GuruRf60BNEC"
      },
      "execution_count": null,
      "outputs": []
    },
    {
      "cell_type": "code",
      "source": [
        "#Find the number of rows and columns of a given matrix using NumPy\n",
        "array = np.array([[1, 2, 3, 4], [-1, -2, -3, -4], [5, 6, 7, 8], [-5, -6, -7, -8]])\n",
        "row = array.shape[0]\n",
        "col = array.shape[1]\n",
        "print(\"03 - Get the minimum value from given matrix\")\n",
        "print(\"Rows:\", row)\n",
        "print(\"Colums:\", col)"
      ],
      "metadata": {
        "id": "qTjideyVBNHq"
      },
      "execution_count": null,
      "outputs": []
    },
    {
      "cell_type": "code",
      "source": [
        "#Select the elements from a given matrix\n",
        "array = np.array([[1, 2, 3, 4], [-1, -2, -3, -4], [5, 6, 7, 8], [-5, -6, -7, -8]])\n",
        "ele = array[2][1]\n",
        "print(\"04 - Select the elements from a given matrix\")\n",
        "print(\"Element at [2, 1]:\", ele)"
      ],
      "metadata": {
        "id": "E34GPpTvBNLT"
      },
      "execution_count": null,
      "outputs": []
    },
    {
      "cell_type": "code",
      "source": [
        "#Find the sum of values in a matrix\n",
        "array = np.array([[10, 2, 3, 4], [-1, -2, -3, -4], [5, 6, 7, 8], [-5, -6, -7, -8]])\n",
        "sum = np.sum(array)\n",
        "print(\"05 - Find the sum of values in a matrix\")\n",
        "print(\"Sum:\", sum)"
      ],
      "metadata": {
        "id": "OgwtuZsGBNOQ"
      },
      "execution_count": null,
      "outputs": []
    },
    {
      "cell_type": "code",
      "source": [
        "#Calculate the sum of the diagonal elements of a NumPy array\n",
        "array = np.array([[10, 2, 3, 4], [-1, -2, -3, -4], [5, 6, 7, 8], [-5, -6, -7, -8]])\n",
        "sum_dia = np.trace(array)\n",
        "print(\"06 - Calculate the sum of the diagonal elements of a NumPy array\")\n",
        "print(\"Sum of diagonal:\", sum_dia)"
      ],
      "metadata": {
        "id": "DMcmztP2BNRW"
      },
      "execution_count": null,
      "outputs": []
    },
    {
      "cell_type": "code",
      "source": [
        "#Adding and Subtracting Matrices in Python\n",
        "array = np.array([[1, 2, 3, 4], [-1, -2, -3, -4], [5, 6, 7, 8], [-5, -6, -7, -8]])\n",
        "array2 = np.array([[1, 2, 3, 4], [-1, -2, -3, -4], [5, 6, 7, 8], [-5, -6, -7, -8]])\n",
        "sum_array = array + array2\n",
        "sub_array = array - array2\n",
        "print(\"07 - Adding and Subtracting Matrices in Python\")\n",
        "print(\"Sum of array:\\n\", sum_array)\n",
        "print(\"Sub of array:\\n\", sub_array)"
      ],
      "metadata": {
        "id": "Rdsb2SiWBNUE"
      },
      "execution_count": null,
      "outputs": []
    },
    {
      "cell_type": "code",
      "source": [
        "#Ways to add row/columns in numpy array\n",
        "array = np.array([[1, 2, 3, 4], [-1, -2, -3, -4], [5, 6, 7, 8], [-5, -6, -7, -8]])\n",
        "array2 = np.array([[9, 10, 11, 12]])\n",
        "add_row = np.vstack((array, array2))\n",
        "add_col = np.hstack((array, array2.T))\n",
        "print(\"08 - Ways to add row/columns in numpy array\")\n",
        "print(\"Add row:\\n\", add_row)\n",
        "print(\"Add col:\\n\", add_col)"
      ],
      "metadata": {
        "id": "SXEg6_WdBNW3"
      },
      "execution_count": null,
      "outputs": []
    },
    {
      "cell_type": "code",
      "source": [
        "#Matrix Multiplication in NumPy\n",
        "array = np.array([[1, 2, 3, 4], [-1, -2, -3, -4], [5, 6, 7, 8], [-5, -6, -7, -8]])\n",
        "array2 = np.array([[9], [10], [11], [12]])\n",
        "mult = np.dot(array, array2)\n",
        "print(\"09 - Matrix Multiplication in NumPy\")\n",
        "print(\"Multiplication:\\n\", mult)"
      ],
      "metadata": {
        "id": "v2Pd7T7wBNZi"
      },
      "execution_count": null,
      "outputs": []
    },
    {
      "cell_type": "code",
      "source": [
        "#Get the eigen values of a matrix\n",
        "array = np.array([[1, 2, 3, 4], [-1, -2, -3, -4], [5, 6, 7, 8], [-5, -6, -7, -8]])\n",
        "eigen = np.linalg.eigvals(array)\n",
        "print(\"10 - Get the eigen values of a matrix\")\n",
        "print(\"Eigen values:\\n\", eigen)"
      ],
      "metadata": {
        "id": "I6L9p-KHBNcS"
      },
      "execution_count": null,
      "outputs": []
    },
    {
      "cell_type": "code",
      "source": [
        "#How to Calculate the determinant of a matrix using NumPy?\n",
        "array = np.array([[0, 1, 2], [3, 4, 5], [6, 7, 9]])\n",
        "det = np.linalg.det(array)\n",
        "print(\"11 - How to Calculate the determinant of a matrix using NumPy?\")\n",
        "print(\"Determinant:\", det)"
      ],
      "metadata": {
        "id": "ldoCUAGnKxRI"
      },
      "execution_count": null,
      "outputs": []
    },
    {
      "cell_type": "code",
      "source": [
        "#How to inverse a matrix using NumPy\n",
        "array = np.array([[-1, 1.5,], [1, -1]])\n",
        "inv = np.linalg.inv(array)\n",
        "print(\"12 - How to inverse a matrix using NumPy\")\n",
        "print(\"Inverse matrix:\\n\", inv)"
      ],
      "metadata": {
        "id": "y6ySQY43KxUN"
      },
      "execution_count": null,
      "outputs": []
    },
    {
      "cell_type": "code",
      "source": [
        "#How to count the frequency of unique values in NumPy array?\n",
        "array = np.array([[1, 2, 3, 4], [-1, -2, -3, -4], [5, 6, 7, 8], [-5, -6, -7, -8]])\n",
        "unique, frequency = np.unique(array, return_counts = True)\n",
        "count = np.asarray((unique, frequency))\n",
        "print(\"13 - How to count the frequency of unique values in NumPy array?\")\n",
        "print(\"Freq. unique:\\n\", count)"
      ],
      "metadata": {
        "id": "ifD-ZjB5KxZ_"
      },
      "execution_count": null,
      "outputs": []
    },
    {
      "cell_type": "code",
      "source": [
        "#Multiply matrices of complex numbers using NumPy in Python\n",
        "array = np.array([[1, 2, 3, 4], [-1, -2, -3, -4], [5, 6, 7, 8], [-5, -6, -7, -8]])\n",
        "comp = array.astype(complex)\n",
        "dot = np.dot(array, comp)\n",
        "print(\"14 - Multiply matrices of complex numbers using NumPy in Python\")\n",
        "print(\"Multiplication:\\n\", dot)"
      ],
      "metadata": {
        "id": "AijE7J0dKxlA"
      },
      "execution_count": null,
      "outputs": []
    },
    {
      "cell_type": "code",
      "source": [
        "#Compute the outer product of two given vectors using NumPy in Python\n",
        "array = np.array([[1, 2, 3, 4]])\n",
        "array2 = np.array([[5, 6, 7, 8]])\n",
        "outer = np.outer(array, array2)\n",
        "print(\"15 - Compute the outer product of two given vectors using NumPy in Python\")\n",
        "print(\"Outer:\\n\", outer)"
      ],
      "metadata": {
        "id": "kgR0TK1zKxsU"
      },
      "execution_count": null,
      "outputs": []
    },
    {
      "cell_type": "code",
      "source": [
        "#Calculate inner, outer, and cross products of matrices and vectors using NumPy\n",
        "vector = np.array([[1, 2, 3]])\n",
        "vector2 = np.array([[4, 5, 6]])\n",
        "array = np.array([[1, 2], [-1, -2]])\n",
        "array2 = np.array([[3, 4], [-3, -4]])\n",
        "innerV = np.inner(vector, vector2) #prod. interno\n",
        "outerV = np.outer(vector, vector2) #prod. externo\n",
        "crossV = np.cross(vector, vector2) #prod. cruzado\n",
        "innerM = np.inner(array, array2) #prod. interno\n",
        "outerM = np.outer(array, array2) #prod. externo\n",
        "crossM = np.cross(array, array2) #prod. cruzado\n",
        "print(\"16 - Calculate inner, outer, and cross products of matrices and vectors using NumPy\")\n",
        "print(\"Inner vector:\\n\", innerV)\n",
        "print(\"\\nOuter vector:\\n\", outerV)\n",
        "print(\"\\nCross vector:\\n\", crossV)\n",
        "print(\"\\nInner matriz:\\n\", innerM)\n",
        "print(\"\\nOuter matriz:\\n\", outerM)\n",
        "print(\"\\nCross matriz:\\n\", crossM)"
      ],
      "metadata": {
        "id": "CqiAnm4HBNfQ"
      },
      "execution_count": null,
      "outputs": []
    },
    {
      "cell_type": "code",
      "source": [
        "#Compute the covariance matrix of two given NumPy arrays\n",
        "array = np.array([[1, 2], [-1, -2]])\n",
        "array2 = np.array([[3, 4], [-3, -4]])\n",
        "covariance = np.cov(array, array2)\n",
        "print(\"17 - Compute the covariance matrix of two given NumPy arrays\")\n",
        "print(\"Covariance:\\n\", covariance)"
      ],
      "metadata": {
        "id": "pmIXdSYTQRyW"
      },
      "execution_count": null,
      "outputs": []
    },
    {
      "cell_type": "code",
      "source": [
        "#Convert covariance matrix to correlation matrix using Python\n",
        "array = np.array([[1, 2], [-1, -2]])\n",
        "array2 = np.array([[3, 4], [-3, -4]])\n",
        "correlation = np.corrcoef(np.cov(array,array2))\n",
        "print(\"18 - Compute the covariance matrix of two given NumPy arrays\")\n",
        "print(\"Correlation:\\n\", correlation)"
      ],
      "metadata": {
        "id": "OA_hSTb_QR14"
      },
      "execution_count": null,
      "outputs": []
    },
    {
      "cell_type": "code",
      "source": [
        "#Compute the Kronecker product of two mulitdimension NumPy arrays\n",
        "array = np.array([[1, 2], [-1, -2]])\n",
        "array2 = np.array([[3, 4], [-3, -4]])\n",
        "kronecker = np.kron(array, array2) #ou produto direto\n",
        "print(\"19 - Compute the covariance matrix of two given NumPy arrays\")\n",
        "print(\"Kronecker:\\n\", kronecker)"
      ],
      "metadata": {
        "id": "KzSEQocWQR_q"
      },
      "execution_count": null,
      "outputs": []
    },
    {
      "cell_type": "code",
      "source": [
        "#Convert the matrix into a list\n",
        "array = np.array([[1, 2], [-1, -2]])\n",
        "lista = array.tolist() #ou produto direto\n",
        "print(\"20 - Convert the matrix into a list\")\n",
        "print(\"List:\", lista)"
      ],
      "metadata": {
        "id": "EyjJARPNQSC0"
      },
      "execution_count": null,
      "outputs": []
    },
    {
      "cell_type": "markdown",
      "source": [
        "# **Topic 3: Questions on NumPy Indexing**"
      ],
      "metadata": {
        "id": "dLdaciFEYihK"
      }
    },
    {
      "cell_type": "code",
      "source": [
        "#Replace NumPy array elements that doesn’t satisfy the given condition\n",
        "array = np.array([[1, 2, 3, 4], [-1, -2, -3, -4], [5, 6, 7, 8], [-5, -6, -7, -8]])\n",
        "array[(array % 2) != 0] = 0\n",
        "print(\"01 - Replace NumPy array elements that doesn’t satisfy the given condition\")\n",
        "print(\"Array with pair condition replaced:\\n\", array)"
      ],
      "metadata": {
        "colab": {
          "base_uri": "https://localhost:8080/"
        },
        "id": "THDUBXb2YuQP",
        "outputId": "46e351b8-8463-495d-de6a-d1d9179df982"
      },
      "execution_count": null,
      "outputs": [
        {
          "output_type": "stream",
          "name": "stdout",
          "text": [
            "01 - Replace NumPy array elements that doesn’t satisfy the given condition\n",
            "Array with pair condition replaced:\n",
            " [[ 0  2  0  4]\n",
            " [ 0 -2  0 -4]\n",
            " [ 0  6  0  8]\n",
            " [ 0 -6  0 -8]]\n"
          ]
        }
      ]
    },
    {
      "cell_type": "code",
      "source": [
        "#Return the indices of elements where the given condition is satisfied\n",
        "array = np.array([1, 2, 3, 4, 5, 6, 7, 8, 9, 0])\n",
        "arr = np.where((array % 2) != 0)\n",
        "print(\"02 - Return the indices of elements where the given condition is satisfied\")\n",
        "print(\"Array with pair condition without elements:\\n\", arr)"
      ],
      "metadata": {
        "colab": {
          "base_uri": "https://localhost:8080/"
        },
        "id": "BWjg2Kv2Yy2n",
        "outputId": "a5c643c5-adc3-4dff-8c6c-399d4b0339fa"
      },
      "execution_count": null,
      "outputs": [
        {
          "output_type": "stream",
          "name": "stdout",
          "text": [
            "01 - Replace NumPy array elements that doesn’t satisfy the given condition\n",
            "Array with pair condition without elements:\n",
            " (array([0, 2, 4, 6, 8]),)\n"
          ]
        }
      ]
    },
    {
      "cell_type": "code",
      "source": [
        "#Replace NaN values with average of columns\n",
        "array = np.array([[1, 2, np.nan],[4, np.nan, 6],[7, 8, np.nan]])\n",
        "matrix_mean = np.nanmean(array, axis=0)\n",
        "index = np.where(np.isnan(array))\n",
        "array[index] = np.take(matrix_mean, index[1])\n",
        "print(\"03 - Return the indices of elements where the given condition is satisfied\")\n",
        "print(\"Replaced:\\n\", array)"
      ],
      "metadata": {
        "colab": {
          "base_uri": "https://localhost:8080/"
        },
        "id": "n9fkJPUJYy7D",
        "outputId": "d9a59799-cc82-450c-d0d2-4f20e596a1f6"
      },
      "execution_count": null,
      "outputs": [
        {
          "output_type": "stream",
          "name": "stdout",
          "text": [
            "02 - Return the indices of elements where the given condition is satisfied\n",
            "Replaced:\n",
            " [[1. 2. 6.]\n",
            " [4. 5. 6.]\n",
            " [7. 8. 6.]]\n"
          ]
        }
      ]
    },
    {
      "cell_type": "code",
      "source": [
        "#Replace negative value with zero in numpy array\n",
        "array = np.array([1, -2, 3, -4, 5, -6, 7, -8, 9])\n",
        "array[array < 0] = 0\n",
        "print(\"04 - Replace negative value with zero in numpy array\")\n",
        "print(\"Replaced:\", array)"
      ],
      "metadata": {
        "colab": {
          "base_uri": "https://localhost:8080/"
        },
        "id": "AOaHZhiBYy-M",
        "outputId": "cfa36461-b0f5-4357-e9d8-cc4adb2eff49"
      },
      "execution_count": null,
      "outputs": [
        {
          "output_type": "stream",
          "name": "stdout",
          "text": [
            "04 - Replace negative value with zero in numpy array\n",
            "Replaced: [1 0 3 0 5 0 7 0 9]\n"
          ]
        }
      ]
    },
    {
      "cell_type": "code",
      "source": [
        "#How to get values of an NumPy array at certain index positions?\n",
        "array = np.array([1, 2, 3, 4, 5, 6, 7, 8, 9])\n",
        "print(\"05 - How to get values of an NumPy array at certain index positions?\")\n",
        "for index in range(len(array)):\n",
        "    print(f\"Value of index {index}:\", array[index])"
      ],
      "metadata": {
        "colab": {
          "base_uri": "https://localhost:8080/"
        },
        "id": "yrmfwSO8YzA0",
        "outputId": "95a1cf63-7bdb-4016-8b71-0b32721e7d81"
      },
      "execution_count": null,
      "outputs": [
        {
          "output_type": "stream",
          "name": "stdout",
          "text": [
            "05 - How to get values of an NumPy array at certain index positions?\n",
            "Value of index 0: 1\n",
            "Value of index 1: 2\n",
            "Value of index 2: 3\n",
            "Value of index 3: 4\n",
            "Value of index 4: 5\n",
            "Value of index 5: 6\n",
            "Value of index 6: 7\n",
            "Value of index 7: 8\n",
            "Value of index 8: 9\n"
          ]
        }
      ]
    },
    {
      "cell_type": "code",
      "source": [
        "#Find indices of elements equal to zero in a NumPy array\n",
        "array = np.array([1, 0, 3, 0, 5, 0, 7, 0, 9])\n",
        "arr = np.where(array == 0)\n",
        "print(\"06 - Find indices of elements equal to zero in a NumPy array\")\n",
        "print(\"Replaced:\", arr[0])"
      ],
      "metadata": {
        "colab": {
          "base_uri": "https://localhost:8080/"
        },
        "id": "X9A9d2X1YzDb",
        "outputId": "9654c4d0-4ddb-4e59-924e-c0b153adeb7a"
      },
      "execution_count": null,
      "outputs": [
        {
          "output_type": "stream",
          "name": "stdout",
          "text": [
            "06 - Find indices of elements equal to zero in a NumPy array\n",
            "Replaced: [1 3 5 7]\n"
          ]
        }
      ]
    },
    {
      "cell_type": "code",
      "source": [
        "#How to Remove columns in Numpy array that contains non-numeric values?\n",
        "array = np.array([[1, 2, np.nan],[4, np.nan, 6],[7, 8, np.nan]])\n",
        "arr = array[:, ~np.isnan(array).any(0)]\n",
        "print(\"07 - How to Remove columns in Numpy array that contains non-numeric values?\")\n",
        "print(\"Removed:\\n\", arr)"
      ],
      "metadata": {
        "colab": {
          "base_uri": "https://localhost:8080/"
        },
        "id": "Vr-lFFZ6YzF8",
        "outputId": "99beaa82-6949-4c45-ad73-9df38a5dfb40"
      },
      "execution_count": null,
      "outputs": [
        {
          "output_type": "stream",
          "name": "stdout",
          "text": [
            "07 - How to Remove columns in Numpy array that contains non-numeric values?\n",
            "Removed:\n",
            " [[1.]\n",
            " [4.]\n",
            " [7.]]\n"
          ]
        }
      ]
    },
    {
      "cell_type": "code",
      "source": [
        "#How to access different rows of a multidimensional NumPy array?\n",
        "array = np.array([[1, 2, 3], [4, 5, 6], [7, 8, 9]])\n",
        "rows = array[[0, 1]]\n",
        "print(\"08 - How to access different rows of a multidimensional NumPy array?\")\n",
        "print(\"Rows 0 and 1:\\n\", rows)"
      ],
      "metadata": {
        "colab": {
          "base_uri": "https://localhost:8080/"
        },
        "id": "zIzsLM3OYzIX",
        "outputId": "945827a5-b451-4dd1-a25b-b1f35db65117"
      },
      "execution_count": null,
      "outputs": [
        {
          "output_type": "stream",
          "name": "stdout",
          "text": [
            "08 - How to access different rows of a multidimensional NumPy array?\n",
            "Rows 0 and 1:\n",
            " [[1 2 3]\n",
            " [4 5 6]]\n"
          ]
        }
      ]
    },
    {
      "cell_type": "code",
      "source": [
        "#Get row numbers of NumPy array having element larger than X\n",
        "array = np.array([[1, 2, 3], [4, 5, 6], [7, 8, 9]])\n",
        "X = 3\n",
        "conj = np.where(array > X)\n",
        "row = np.unique(conj[0])\n",
        "print(\"09 - Get row numbers of NumPy array having element larger than X\")\n",
        "print(f\"Itens of array where array[x, y] > {X}:\\n\", row)"
      ],
      "metadata": {
        "colab": {
          "base_uri": "https://localhost:8080/"
        },
        "id": "owGI_7mJYzK-",
        "outputId": "524e1730-6102-4c09-e6aa-9884c12b24dd"
      },
      "execution_count": null,
      "outputs": [
        {
          "output_type": "stream",
          "name": "stdout",
          "text": [
            "09 - Get row numbers of NumPy array having element larger than X\n",
            "Itens of array where array[x, y] > 3:\n",
            " [1 2]\n"
          ]
        }
      ]
    },
    {
      "cell_type": "code",
      "source": [
        "#Get filled the diagonals of NumPy array\n",
        "array = np.array([[1, 2, 3], [4, 5, 6], [7, 8, 9]])\n",
        "np.fill_diagonal(array, 1)\n",
        "print(\"10 - Get row numbers of NumPy array having element larger than X\")\n",
        "print(\"Filled the diagonals:\\n\", array)"
      ],
      "metadata": {
        "colab": {
          "base_uri": "https://localhost:8080/"
        },
        "id": "uGdz-eBqYzNk",
        "outputId": "e158ab28-72b4-4281-dace-ed1f81b43571"
      },
      "execution_count": null,
      "outputs": [
        {
          "output_type": "stream",
          "name": "stdout",
          "text": [
            "10 - Get row numbers of NumPy array having element larger than X\n",
            "Filled the diagonals:\n",
            " [[1 2 3]\n",
            " [4 1 6]\n",
            " [7 8 1]]\n"
          ]
        }
      ]
    },
    {
      "cell_type": "code",
      "source": [
        "#Check elements present in the NumPy array\n",
        "array = np.array([[1, 2, 3], [4, 5, 6], [7, 8, 9]])\n",
        "values = np.array([1, 2, 3, 5, 8, 10])\n",
        "print(\"11 - Check elements present in the NumPy array\")\n",
        "for i in values:\n",
        "    print(f\"The element {i} is in array:\",i in array)"
      ],
      "metadata": {
        "colab": {
          "base_uri": "https://localhost:8080/"
        },
        "id": "aQkJ7B6HYzQd",
        "outputId": "eaf5a42e-fab8-42b7-e4a0-24514fdf22a3"
      },
      "execution_count": null,
      "outputs": [
        {
          "output_type": "stream",
          "name": "stdout",
          "text": [
            "11 - Check elements present in the NumPy array\n",
            "The element 1 is in array: True\n",
            "The element 2 is in array: True\n",
            "The element 3 is in array: True\n",
            "The element 5 is in array: True\n",
            "The element 8 is in array: True\n",
            "The element 10 is in array: False\n"
          ]
        }
      ]
    },
    {
      "cell_type": "code",
      "source": [
        "#Combined array index by index\n",
        "array = np.array([[1, 2, 3], [4, 5, 6], [7, 8, 9]])\n",
        "array2 = np.array([[-1, 2, -3], [4, -5, 6], [-7, 8, -9]])\n",
        "result = array + array2\n",
        "print(\"12 - Combined array index by index\")\n",
        "print(\"Combined array (sum):\\n\", result)"
      ],
      "metadata": {
        "colab": {
          "base_uri": "https://localhost:8080/"
        },
        "id": "bwVS0oeiYzTE",
        "outputId": "90239799-ac34-4ddf-f680-cfc85d927f73"
      },
      "execution_count": null,
      "outputs": [
        {
          "output_type": "stream",
          "name": "stdout",
          "text": [
            "12 - Combined array index by index\n",
            "Combined array (sum):\n",
            " [[ 0  4  0]\n",
            " [ 8  0 12]\n",
            " [ 0 16  0]]\n"
          ]
        }
      ]
    },
    {
      "cell_type": "markdown",
      "source": [
        "# **Topic 4: Questions on NumPy Linear Algebra**"
      ],
      "metadata": {
        "id": "e9D7o01QtBiS"
      }
    },
    {
      "cell_type": "code",
      "source": [
        "#Find a matrix or vector norm using NumPy\n",
        "vector = np.array([1, 2, 3, 4, 5])\n",
        "array = np.array([[1, 2, 3], [4, 5, 6], [7, 8, 9]])\n",
        "norm_vector = np.linalg.norm(vector)\n",
        "norm_array = np.linalg.norm(array)\n",
        "print(\"01 - Find a matrix or vector norm using NumPy\")\n",
        "print(\"Norm of vector:\\n\", norm_vector)\n",
        "print(\"Norm of array:\\n\", norm_array)"
      ],
      "metadata": {
        "colab": {
          "base_uri": "https://localhost:8080/"
        },
        "id": "fBAh5-88tVm8",
        "outputId": "de86e203-07e3-458b-eeee-b0e2ba02a0a8"
      },
      "execution_count": null,
      "outputs": [
        {
          "output_type": "stream",
          "name": "stdout",
          "text": [
            "01 - Find a matrix or vector norm using NumPy\n",
            "Norm of vector:\n",
            " 7.416198487095663\n",
            "Norm of array:\n",
            " 16.881943016134134\n"
          ]
        }
      ]
    },
    {
      "cell_type": "code",
      "source": [
        "#Calculate the QR decomposition of a given matrix using NumPy\n",
        "array = np.array([[1, 2, 3], [4, 5, 6], [7, 8, 9]])\n",
        "Q, R = np.linalg.qr(array)\n",
        "print(\"02 - Calculate the QR decomposition of a given matrix using NumPy\")\n",
        "print(\"Decomp Q:\\n\", Q)\n",
        "print(\"Decomp R:\\n\", R)"
      ],
      "metadata": {
        "colab": {
          "base_uri": "https://localhost:8080/"
        },
        "id": "AZW4_8iZtiKO",
        "outputId": "55254c54-0b31-4652-cadc-1bba233706ef"
      },
      "execution_count": null,
      "outputs": [
        {
          "output_type": "stream",
          "name": "stdout",
          "text": [
            "01 - Calculate the QR decomposition of a given matrix using NumPy\n",
            "Decomp Q:\n",
            " [[-0.12309149  0.90453403  0.40824829]\n",
            " [-0.49236596  0.30151134 -0.81649658]\n",
            " [-0.86164044 -0.30151134  0.40824829]]\n",
            "Decomp R:\n",
            " [[-8.12403840e+00 -9.60113630e+00 -1.10782342e+01]\n",
            " [ 0.00000000e+00  9.04534034e-01  1.80906807e+00]\n",
            " [ 0.00000000e+00  0.00000000e+00 -8.88178420e-16]]\n"
          ]
        }
      ]
    },
    {
      "cell_type": "code",
      "source": [
        "#Compute the condition number of a given matrix using NumPy\n",
        "array = np.array([[1, 2, 3], [4, 5, 6], [7, 8, 9]])\n",
        "CN = np.linalg.cond(array)\n",
        "print(\"03 - Compute the condition number of a given matrix using NumPy\")\n",
        "print(\"Condition number:\", CN)"
      ],
      "metadata": {
        "colab": {
          "base_uri": "https://localhost:8080/"
        },
        "id": "9E2mdLAwtiNA",
        "outputId": "db9dde08-a076-4ad3-af42-897cbc8f8d50"
      },
      "execution_count": null,
      "outputs": [
        {
          "output_type": "stream",
          "name": "stdout",
          "text": [
            "01 - Calculate the QR decomposition of a given matrix using NumPy\n",
            "Condition number: 3.813147060626918e+16\n"
          ]
        }
      ]
    },
    {
      "cell_type": "code",
      "source": [
        "#Compute the eigenvalues and right eigenvectors of a given square array using NumPy?\n",
        "array = np.array([[1, 2, 3], [4, 5, 6], [7, 8, 9]])\n",
        "eigenvalues, eigenvectors = np.linalg.eig(array)\n",
        "print(\"04 - Compute the eigenvalues and right eigenvectors of a given square array using NumPy?\")\n",
        "print(\"Eigenvalues:\", eigenvalues)\n",
        "print(\"Eigenvectors:\\n\", eigenvectors)"
      ],
      "metadata": {
        "colab": {
          "base_uri": "https://localhost:8080/"
        },
        "id": "YtT61Je-tiPe",
        "outputId": "5e3eaa21-8c7e-4615-94a7-4b005c8358e9"
      },
      "execution_count": null,
      "outputs": [
        {
          "output_type": "stream",
          "name": "stdout",
          "text": [
            "04 - Calculate the QR decomposition of a given matrix using NumPy\n",
            "Eigenvalues: [ 1.61168440e+01 -1.11684397e+00 -1.30367773e-15]\n",
            "Eigenvectors:\n",
            " [[-0.23197069 -0.78583024  0.40824829]\n",
            " [-0.52532209 -0.08675134 -0.81649658]\n",
            " [-0.8186735   0.61232756  0.40824829]]\n"
          ]
        }
      ]
    },
    {
      "cell_type": "code",
      "source": [
        "#Calculate the Euclidean distance using NumPy\n",
        "array = np.array([[1, 2, 3], [4, 5, 6], [7, 8, 9]])\n",
        "array2 = np.array([[10, 11, 12], [13, 14, 15], [16, 17, 18]])\n",
        "euclidean_dist = np.linalg.norm(array - array2)\n",
        "print(\"05 - Calculate the Euclidean distance using NumPy\")\n",
        "print(\"Euclidean distance of matrix:\", euclidean_dist)"
      ],
      "metadata": {
        "colab": {
          "base_uri": "https://localhost:8080/"
        },
        "id": "omE6h4QKtiZA",
        "outputId": "7bb5d605-d3be-4c54-dc65-5030153a17c3"
      },
      "execution_count": null,
      "outputs": [
        {
          "output_type": "stream",
          "name": "stdout",
          "text": [
            "05 - Calculate the QR decomposition of a given matrix using NumPy\n",
            "Euclidean distance of matrix: 27.0\n"
          ]
        }
      ]
    },
    {
      "cell_type": "markdown",
      "source": [
        "# **Topic 5: Questions on NumPy Random**"
      ],
      "metadata": {
        "id": "5XZsn15Iwwsa"
      }
    },
    {
      "cell_type": "code",
      "source": [
        "#Create a Numpy array with random values\n",
        "array = np.random.rand(2, 5)\n",
        "print(\"01 - Create a Numpy array with random values\")\n",
        "print(\"Random vector:\\n\", array)"
      ],
      "metadata": {
        "colab": {
          "base_uri": "https://localhost:8080/"
        },
        "id": "FtrcMqj4w9Hc",
        "outputId": "f4027098-e4ab-48d9-f1f4-2b8cd2b41de9"
      },
      "execution_count": null,
      "outputs": [
        {
          "output_type": "stream",
          "name": "stdout",
          "text": [
            "01 - Calculate the QR decomposition of a given matrix using NumPy\n",
            "Euclidean distance of matrix:\n",
            " [[0.67169262 0.35662437 0.25072002 0.95310295 0.26615979]\n",
            " [0.11109621 0.52955213 0.70310366 0.82907143 0.59061804]]\n"
          ]
        }
      ]
    },
    {
      "cell_type": "code",
      "source": [
        "#How to choose elements from the list with different probability using NumPy?\n",
        "lista = [1, 2, 3, 4, 5]\n",
        "c = np.random.choice(lista, 4, p = [0, 0, 0.5, 0.5, 0])\n",
        "print(\"02 - How to choose elements from the list with different probability using NumPy?\")\n",
        "print(\"Choice:\", c)"
      ],
      "metadata": {
        "colab": {
          "base_uri": "https://localhost:8080/"
        },
        "id": "XMS1S7ZexCZS",
        "outputId": "74cc5e2e-1796-4ace-a28a-d400feb1aa61"
      },
      "execution_count": null,
      "outputs": [
        {
          "output_type": "stream",
          "name": "stdout",
          "text": [
            "02 - How to choose elements from the list with different probability using NumPy?\n",
            "Choice: [3 3 3 3]\n"
          ]
        }
      ]
    },
    {
      "cell_type": "code",
      "source": [
        "#How to get weighted random choice in Python?\n",
        "lista = [1, 2, 3, 4, 5, 6, 7, 8, 9]\n",
        "rand = random.choices(lista, (1, 1, 5, 4, 5, 5, 8, 2, 1), k = 3)\n",
        "print(\"03 - How to get weighted random choice in Python?\")\n",
        "print(\"Random choice:\", rand)"
      ],
      "metadata": {
        "colab": {
          "base_uri": "https://localhost:8080/"
        },
        "id": "grrKyyXtxChC",
        "outputId": "99a37048-d178-4d6b-fc5e-924623934ac0"
      },
      "execution_count": null,
      "outputs": [
        {
          "output_type": "stream",
          "name": "stdout",
          "text": [
            "03 - How to get weighted random choice in Python?\n",
            "Random choice: [7, 5, 2]\n"
          ]
        }
      ]
    },
    {
      "cell_type": "code",
      "source": [
        "#Generate Random Numbers From The Uniform Distribution using NumPy\n",
        "array = np.random.uniform(size = 5)\n",
        "print(\"04 - Generate Random Numbers From The Uniform Distribution using NumPy\")\n",
        "print(\"Random numbers:\", array)"
      ],
      "metadata": {
        "colab": {
          "base_uri": "https://localhost:8080/"
        },
        "id": "kH-aOfABxCmD",
        "outputId": "974cf70c-98bc-4ce0-c951-82365ccf6511"
      },
      "execution_count": null,
      "outputs": [
        {
          "output_type": "stream",
          "name": "stdout",
          "text": [
            "04 - Generate Random Numbers From The Uniform Distribution using NumPy\n",
            "Random numbers: [0.06394688 0.26656687 0.3498819  0.75391845 0.75268155]\n"
          ]
        }
      ]
    },
    {
      "cell_type": "code",
      "source": [
        "#Get Random Elements form geometric distribution\n",
        "array = np.random.geometric(0.5, 10)\n",
        "print(\"05 - Get Random Elements form geometric distribution\")\n",
        "print(\"Random elements:\", array)"
      ],
      "metadata": {
        "colab": {
          "base_uri": "https://localhost:8080/"
        },
        "id": "SCFIF37MxCp-",
        "outputId": "b004cde0-a7f8-42f7-caa6-8f9f2a22a800"
      },
      "execution_count": null,
      "outputs": [
        {
          "output_type": "stream",
          "name": "stdout",
          "text": [
            "05 - Get Random Elements form geometric distribution\n",
            "Random numbers: [2 4 1 2 2 1 3 2 1 3]\n"
          ]
        }
      ]
    },
    {
      "cell_type": "code",
      "source": [
        "#Get Random elements from Laplace distribution\n",
        "array = np.random.laplace(0.5, 10, 5)\n",
        "print(\"06 - Get Random elements from Laplace distribution\")\n",
        "print(\"Random elements:\", array)"
      ],
      "metadata": {
        "colab": {
          "base_uri": "https://localhost:8080/"
        },
        "id": "Jq-3PGnixCxr",
        "outputId": "4e57639d-1d88-4cec-dfc5-94b4fd5f2afe"
      },
      "execution_count": null,
      "outputs": [
        {
          "output_type": "stream",
          "name": "stdout",
          "text": [
            "06 - Get Random elements from Laplace distribution\n",
            "Random numbers: [ -6.33250053  -2.44343634   4.47414493 -11.17809351 -11.47305133]\n"
          ]
        }
      ]
    },
    {
      "cell_type": "code",
      "source": [
        "#Return a Matrix of random values from a uniform distribution\n",
        "rand = np.random.uniform(size=(3,3))\n",
        "array = np.array(rand)\n",
        "print(\"07 - Return a Matrix of random values from a uniform distribution\")\n",
        "print(\"Random values:\\n\", array)"
      ],
      "metadata": {
        "colab": {
          "base_uri": "https://localhost:8080/"
        },
        "id": "lOzKeXq0xDOv",
        "outputId": "e2b20817-dd73-40c8-eee2-d36d61276886"
      },
      "execution_count": null,
      "outputs": [
        {
          "output_type": "stream",
          "name": "stdout",
          "text": [
            "07 - Return a Matrix of random values from a uniform distribution\n",
            "Random numbers:\n",
            " [[0.25518432 0.10535468 0.28176194]\n",
            " [0.16391823 0.57521799 0.28502626]\n",
            " [0.78172719 0.74719121 0.2390675 ]]\n"
          ]
        }
      ]
    },
    {
      "cell_type": "code",
      "source": [
        "#Return a Matrix of random values from a Gaussian distribution\n",
        "array = np.random.normal(size=(3,3))\n",
        "print(\"08 - Return a Matrix of random values from a Gaussian distribution\")\n",
        "print(\"Random values:\", array)"
      ],
      "metadata": {
        "colab": {
          "base_uri": "https://localhost:8080/"
        },
        "id": "cQjTID9kxRsf",
        "outputId": "5edc0aac-9c4d-41de-e410-2152b346d5b3"
      },
      "execution_count": null,
      "outputs": [
        {
          "output_type": "stream",
          "name": "stdout",
          "text": [
            "08 - Return a Matrix of random values from a Gaussian distribution\n",
            "Random numbers: [[ 0.80764382  0.12910898 -1.00266265]\n",
            " [ 0.20625941 -2.71376326  0.62214999]\n",
            " [-1.71595033  1.08549188 -1.21905524]]\n"
          ]
        }
      ]
    },
    {
      "cell_type": "markdown",
      "source": [
        "# **Topic 6: Questions on NumPy Sorting and Searching**"
      ],
      "metadata": {
        "id": "ihSGyR0LFOnC"
      }
    },
    {
      "cell_type": "code",
      "source": [
        "#How to get the indices of the sorted array using NumPy in Python?\n",
        "array = np.array([0, 1, 2, 3, 4, 5, 6, 7, 8, 9])\n",
        "index = np.argsort(array)\n",
        "print(\"01 - How to get the indices of the sorted array using NumPy in Python?\")\n",
        "print(index)"
      ],
      "metadata": {
        "colab": {
          "base_uri": "https://localhost:8080/"
        },
        "id": "3BQ-Pr9LFUZY",
        "outputId": "33c16af5-395d-4e9a-c229-19a3aec8b77c"
      },
      "execution_count": null,
      "outputs": [
        {
          "output_type": "stream",
          "name": "stdout",
          "text": [
            "01 - How to get the indices of the sorted array using NumPy in Python?\n",
            "[0 1 2 3 4 5 6 7 8 9]\n"
          ]
        }
      ]
    },
    {
      "cell_type": "code",
      "source": [
        "#Finding the k smallest values of a NumPy array\n",
        "array = np.array([0, 1, 2, 3, 4, 5, 6, 7, 8, 9])\n",
        "k = np.sort(array)[:7]\n",
        "print(\"02 - Finding the k smallest values of a NumPy array\")\n",
        "print(k)"
      ],
      "metadata": {
        "colab": {
          "base_uri": "https://localhost:8080/"
        },
        "id": "Nzos6HQvFUcf",
        "outputId": "6004c35a-c508-4212-f7ed-ca3b54d6a11f"
      },
      "execution_count": null,
      "outputs": [
        {
          "output_type": "stream",
          "name": "stdout",
          "text": [
            "02 - Finding the k smallest values of a NumPy array\n",
            "[0 1 2 3 4 5 6]\n"
          ]
        }
      ]
    },
    {
      "cell_type": "code",
      "source": [
        "#How to get the n-largest values of an array using NumPy?\n",
        "array = np.array([0, 1, 2, 3, 4, 5, 6, 7, 8, 9])\n",
        "k = np.sort(array)[7:]\n",
        "print(\"03 - How to get the n-largest values of an array using NumPy?\")\n",
        "print(k)"
      ],
      "metadata": {
        "colab": {
          "base_uri": "https://localhost:8080/"
        },
        "id": "Rc2m85iIFUfR",
        "outputId": "6f8f5967-c556-4804-c691-036ab20d85e8"
      },
      "execution_count": null,
      "outputs": [
        {
          "output_type": "stream",
          "name": "stdout",
          "text": [
            "03 - How to get the n-largest values of an array using NumPy?\n",
            "[7 8 9]\n"
          ]
        }
      ]
    },
    {
      "cell_type": "code",
      "source": [
        "#Sort the values in a matrix\n",
        "array = np.array([[1, 82, 33], [41, 5, 76], [9, 7, 8]])\n",
        "array.sort()\n",
        "print(\"04 - Sort the values in a matrix\")\n",
        "print(array)"
      ],
      "metadata": {
        "colab": {
          "base_uri": "https://localhost:8080/"
        },
        "id": "xGVHsg9sFUiF",
        "outputId": "576c9e23-7a75-4e07-8032-aef631049e5e"
      },
      "execution_count": null,
      "outputs": [
        {
          "output_type": "stream",
          "name": "stdout",
          "text": [
            "04 - Sort the values in a matrix\n",
            "[[ 1 33 82]\n",
            " [ 5 41 76]\n",
            " [ 7  8  9]]\n"
          ]
        }
      ]
    },
    {
      "cell_type": "code",
      "source": [
        "#Filter out integers from float numpy array\n",
        "array = np.array([1, 2, 3.0, 4.1, 5.5])\n",
        "result = array[array != array.astype(int)]\n",
        "print(\"05 - Filter out integers from float numpy array\")\n",
        "print(result)"
      ],
      "metadata": {
        "colab": {
          "base_uri": "https://localhost:8080/"
        },
        "id": "-bA-pugOFUkn",
        "outputId": "ab416704-401f-46a7-8eaf-d56e8597b9c2"
      },
      "execution_count": null,
      "outputs": [
        {
          "output_type": "stream",
          "name": "stdout",
          "text": [
            "05 - Filter out integers from float numpy array\n",
            "[4.1 5.5]\n"
          ]
        }
      ]
    },
    {
      "cell_type": "code",
      "source": [
        "#Find the indices into a sorted array\n",
        "array = np.array([[ 2, 0, 1], [ 5, 4, 3]])\n",
        "axis_0 = np.argsort(array, kind ='mergesort', axis = 0)\n",
        "axis_1 = np.argsort(array, kind ='heapsort', axis = 1)\n",
        "print(\"06 - Find the indices into a sorted array\")\n",
        "print(\"Axis 0:\\n\", axis_0)\n",
        "print(\"Axis 1:\\n\", axis_1)"
      ],
      "metadata": {
        "colab": {
          "base_uri": "https://localhost:8080/"
        },
        "id": "r9xL2mmeFUnQ",
        "outputId": "60949323-01a3-457f-87bf-0e31af74ad1c"
      },
      "execution_count": null,
      "outputs": [
        {
          "output_type": "stream",
          "name": "stdout",
          "text": [
            "06 - Find the indices into a sorted array\n",
            "Axis 0:\n",
            " [[0 0 0]\n",
            " [1 1 1]]\n",
            "Axis 1:\n",
            " [[1 2 0]\n",
            " [2 1 0]]\n"
          ]
        }
      ]
    },
    {
      "cell_type": "markdown",
      "source": [
        "# **Topic 7: Questions on NumPy Mathematics**"
      ],
      "metadata": {
        "id": "gP-x-QW_JxNR"
      }
    },
    {
      "cell_type": "code",
      "source": [
        "#How to get element-wise true division of an array using Numpy?\n",
        "array = np.array([1, 2, 3, 4, 5, 6, 7, 8, 9])\n",
        "r = np.true_divide(array, 4)\n",
        "print(\"01 - How to get element-wise true division of an array using Numpy?\")\n",
        "print(r)"
      ],
      "metadata": {
        "colab": {
          "base_uri": "https://localhost:8080/"
        },
        "id": "kpkvtUf0J2SO",
        "outputId": "407ec4cc-68f0-4cc9-d419-fccc49d53f66"
      },
      "execution_count": null,
      "outputs": [
        {
          "output_type": "stream",
          "name": "stdout",
          "text": [
            "01 - How to get element-wise true division of an array using Numpy?\n",
            "[0.25 0.5  0.75 1.   1.25 1.5  1.75 2.   2.25]\n"
          ]
        }
      ]
    },
    {
      "cell_type": "code",
      "source": [
        "#How to calculate the element-wise absolute value of NumPy array?\n",
        "array = np.array([-1, -2, -3, 4, 5])\n",
        "r = np.absolute(array)\n",
        "print(\"02 - How to get element-wise true division of an array using Numpy?\")\n",
        "print(r)"
      ],
      "metadata": {
        "colab": {
          "base_uri": "https://localhost:8080/"
        },
        "id": "wpcQTlYcKKdX",
        "outputId": "5d332952-df84-4e22-decb-0140409553d0"
      },
      "execution_count": null,
      "outputs": [
        {
          "output_type": "stream",
          "name": "stdout",
          "text": [
            "02 - How to get element-wise true division of an array using Numpy?\n",
            "[1 2 3 4 5]\n"
          ]
        }
      ]
    },
    {
      "cell_type": "code",
      "source": [
        "#Compute the negative of the NumPy array\n",
        "array = np.array([1, 2, 3, 4, 5, 6, 7, 8, 9])\n",
        "r = np.negative(array)\n",
        "print(\"03 - Compute the negative of the NumPy array\")\n",
        "print(r)"
      ],
      "metadata": {
        "colab": {
          "base_uri": "https://localhost:8080/"
        },
        "id": "jwgf8r-cKKgc",
        "outputId": "0ed70312-03df-4637-96bd-762dd0e349b7"
      },
      "execution_count": null,
      "outputs": [
        {
          "output_type": "stream",
          "name": "stdout",
          "text": [
            "03 - Compute the negative of the NumPy array\n",
            "[-1 -2 -3 -4 -5 -6 -7 -8 -9]\n"
          ]
        }
      ]
    },
    {
      "cell_type": "code",
      "source": [
        "#Multiply 2d numpy array corresponding to 1d array\n",
        "array = np.array([[1, 2, 3], [4, 5, 6], [7, 8, 9]])\n",
        "array2 = np.array([1, 2, 3])\n",
        "r = (array * array2).T\n",
        "print(\"04 - Multiply 2d numpy array corresponding to 1d array\")\n",
        "print(r)"
      ],
      "metadata": {
        "colab": {
          "base_uri": "https://localhost:8080/"
        },
        "id": "goegyA7ZKKi5",
        "outputId": "17ebb0a0-f8a5-45d0-e003-c9e02c9f3c78"
      },
      "execution_count": null,
      "outputs": [
        {
          "output_type": "stream",
          "name": "stdout",
          "text": [
            "04 - Multiply 2d numpy array corresponding to 1d array\n",
            "[[ 1  4  7]\n",
            " [ 4 10 16]\n",
            " [ 9 18 27]]\n"
          ]
        }
      ]
    },
    {
      "cell_type": "code",
      "source": [
        "#Computes the inner product of two arrays\n",
        "array = np.array([1, 2, 3, 4, 5, 6])\n",
        "array2 = np.array([4, 5, 6, 7, 8, 9])\n",
        "r = np.inner(array, array2)\n",
        "print(\"05 - Computes the inner product of two arrays\")\n",
        "print(r)"
      ],
      "metadata": {
        "colab": {
          "base_uri": "https://localhost:8080/"
        },
        "id": "wDah_S26KKlw",
        "outputId": "8108ac6e-fe90-4602-a3d1-5c8b0489d3ae"
      },
      "execution_count": null,
      "outputs": [
        {
          "output_type": "stream",
          "name": "stdout",
          "text": [
            "05 - Computes the inner product of two arrays\n",
            "154\n"
          ]
        }
      ]
    },
    {
      "cell_type": "code",
      "source": [
        "#Compute the nth percentile of the NumPy array\n",
        "array = np.array([1, 2, 3, 4, 5, 6])\n",
        "percentile = np.percentile(array, 10)\n",
        "print(\"06 - Compute the nth percentile of the NumPy array\")\n",
        "print(percentile)"
      ],
      "metadata": {
        "colab": {
          "base_uri": "https://localhost:8080/"
        },
        "id": "HpWpClOAKKoI",
        "outputId": "3ba92e20-dbfa-45c4-9efb-bb2f07025782"
      },
      "execution_count": null,
      "outputs": [
        {
          "output_type": "stream",
          "name": "stdout",
          "text": [
            "06 - Compute the nth percentile of the NumPy array\n",
            "1.5\n"
          ]
        }
      ]
    },
    {
      "cell_type": "code",
      "source": [
        "#Calculate the n-th order discrete difference along the given axis\n",
        "array = np.array([1, 2, 3, 4, 5, 6])\n",
        "diff = np.diff(array, 1)\n",
        "print(\"06 - Compute the nth percentile of the NumPy array\")\n",
        "print(diff)"
      ],
      "metadata": {
        "colab": {
          "base_uri": "https://localhost:8080/"
        },
        "id": "6kfH4gaWKKq-",
        "outputId": "bb08f229-c67c-41fc-9d07-63a1713b815a"
      },
      "execution_count": null,
      "outputs": [
        {
          "output_type": "stream",
          "name": "stdout",
          "text": [
            "06 - Compute the nth percentile of the NumPy array\n",
            "[1 1 1 1 1]\n"
          ]
        }
      ]
    },
    {
      "cell_type": "code",
      "source": [
        "#Calculate the sum of all columns in a 2D NumPy array\n",
        "array = np.array([[1, 2], [3, 4]])\n",
        "r = np.sum(array, 0)\n",
        "print(\"08 - Calculate the sum of all columns in a 2D NumPy array\")\n",
        "print(r)"
      ],
      "metadata": {
        "colab": {
          "base_uri": "https://localhost:8080/"
        },
        "id": "jvDi6kJ5KLNB",
        "outputId": "18f9f1c9-66db-4909-8105-70ca45116504"
      },
      "execution_count": null,
      "outputs": [
        {
          "output_type": "stream",
          "name": "stdout",
          "text": [
            "08 - Calculate the sum of all columns in a 2D NumPy array\n",
            "[4 6]\n"
          ]
        }
      ]
    },
    {
      "cell_type": "code",
      "source": [
        "#Calculate average values of two given NumPy arrays\n",
        "array = np.array([1, 2, 3])\n",
        "array2 = np.array([4, 5, 6])\n",
        "r = (array + array2) / 2\n",
        "print(\"09 - Calculate average values of two given NumPy arrays\")\n",
        "print(r)"
      ],
      "metadata": {
        "colab": {
          "base_uri": "https://localhost:8080/"
        },
        "id": "32yepVAXKLP5",
        "outputId": "bcdbc0d7-2b65-4488-b969-c3cd399dc314"
      },
      "execution_count": null,
      "outputs": [
        {
          "output_type": "stream",
          "name": "stdout",
          "text": [
            "09 - Calculate average values of two given NumPy arrays\n",
            "[2.5 3.5 4.5]\n"
          ]
        }
      ]
    },
    {
      "cell_type": "code",
      "source": [
        "#How to compute numerical negative value for all elements in a given NumPy array?\n",
        "array = np.array([1, 2, 3, 4, 5, 6, 7, 8, 9])\n",
        "r = np.negative(array)\n",
        "print(\"10 - How to compute numerical negative value for all elements in a given NumPy array?\")\n",
        "print(r)"
      ],
      "metadata": {
        "colab": {
          "base_uri": "https://localhost:8080/"
        },
        "id": "p7--yfSHKLSe",
        "outputId": "8a64ed56-77e4-4cb4-b3da-7d014d3ebcb0"
      },
      "execution_count": null,
      "outputs": [
        {
          "output_type": "stream",
          "name": "stdout",
          "text": [
            "10 - How to compute numerical negative value for all elements in a given NumPy array?\n",
            "[-1 -2 -3 -4 -5 -6 -7 -8 -9]\n"
          ]
        }
      ]
    },
    {
      "cell_type": "code",
      "source": [
        "#How to get the floor, ceiling and truncated values of the elements of a numpy array?\n",
        "array = np.array([1.0, 2.18, 3.59])\n",
        "floor = np.floor(array)\n",
        "ceil = np.ceil(array)\n",
        "trunc = np.trunc(array)\n",
        "print(\"11 - How to get the floor, ceiling and truncated values of the elements of a numpy array?\")\n",
        "print(\"Floor:\", floor)\n",
        "print(\"Ceiling:\", ceil)\n",
        "print(\"Trucated:\", trunc)"
      ],
      "metadata": {
        "colab": {
          "base_uri": "https://localhost:8080/"
        },
        "id": "tHcaRjQnKLVX",
        "outputId": "a122c4f3-c26d-4984-8e97-bb6c48422c56"
      },
      "execution_count": null,
      "outputs": [
        {
          "output_type": "stream",
          "name": "stdout",
          "text": [
            "11 - How to get the floor, ceiling and truncated values of the elements of a numpy array?\n",
            "Floor: [1. 2. 3.]\n",
            "Ceiling: [1. 3. 4.]\n",
            "Trucated: [1. 2. 3.]\n"
          ]
        }
      ]
    },
    {
      "cell_type": "code",
      "source": [
        "#How to round elements of the NumPy array to the nearest integer?\n",
        "array = np.array([1.0, 2.18, 3.59])\n",
        "r = np.rint(array)\n",
        "print(\"12 - How to round elements of the NumPy array to the nearest integer?\")\n",
        "print(r)"
      ],
      "metadata": {
        "colab": {
          "base_uri": "https://localhost:8080/"
        },
        "id": "wpz4YkUKKLwx",
        "outputId": "2a40c074-3c67-413a-b540-545005e9486b"
      },
      "execution_count": null,
      "outputs": [
        {
          "output_type": "stream",
          "name": "stdout",
          "text": [
            "12 - How to round elements of the NumPy array to the nearest integer?\n",
            "[1. 2. 4.]\n"
          ]
        }
      ]
    },
    {
      "cell_type": "code",
      "source": [
        "#Find the round off the values of the given matrix\n",
        "array = np.matrix([[1.45, 2.65, 3.98], [4.45, 5.65, 6.98], [7.45, 38.65, 9.98]])\n",
        "r = np.round(array, 0)\n",
        "print(\"13 - Find the round off the values of the given matrix\")\n",
        "print(r)"
      ],
      "metadata": {
        "colab": {
          "base_uri": "https://localhost:8080/"
        },
        "id": "d4S_d4TsKfLk",
        "outputId": "64ee4894-bf3f-4026-917c-49445166d467"
      },
      "execution_count": null,
      "outputs": [
        {
          "output_type": "stream",
          "name": "stdout",
          "text": [
            "13 - Find the round off the values of the given matrix\n",
            "[[ 1.  3.  4.]\n",
            " [ 4.  6.  7.]\n",
            " [ 7. 39. 10.]]\n"
          ]
        }
      ]
    },
    {
      "cell_type": "code",
      "source": [
        "#Determine the positive square-root of an array\n",
        "array = np.array([1, 4, 9, 16, 20])\n",
        "r = np.sqrt(array)\n",
        "print(\"14 - Determine the positive square-root of an array\")\n",
        "print(r)"
      ],
      "metadata": {
        "colab": {
          "base_uri": "https://localhost:8080/"
        },
        "id": "081LSqx9KfV5",
        "outputId": "75aa95b8-3678-402a-a453-77feef53a5d2"
      },
      "execution_count": null,
      "outputs": [
        {
          "output_type": "stream",
          "name": "stdout",
          "text": [
            "14 - Determine the positive square-root of an array\n",
            "[1.         2.         3.         4.         4.47213595]\n"
          ]
        }
      ]
    },
    {
      "cell_type": "code",
      "source": [
        "#Evaluate Einstein’s summation convention of two multidimensional NumPy arrays\n",
        "array = np.array([[1.45, 2.65, 3.98],[4.45, 5.65, 6.98],[7.45, 38.65, 9.98]])\n",
        "array2 = np.array([[10.45, 11.65, 12.98],[13.45, 14.65, 15.98],[16.45, 17.65, 18.98]])\n",
        "r = np.einsum(\"mk, kn\", array, array2)\n",
        "print(\"15 - Evaluate Einstein’s summation convention of two multidimensional NumPy arrays\")\n",
        "print(r)"
      ],
      "metadata": {
        "colab": {
          "base_uri": "https://localhost:8080/"
        },
        "id": "qoROVID3Kfek",
        "outputId": "c5551d8a-3efe-4c87-9ade-4bb36bed7bcb"
      },
      "execution_count": null,
      "outputs": [
        {
          "output_type": "stream",
          "name": "stdout",
          "text": [
            "15 - Evaluate Einstein’s summation convention of two multidimensional NumPy arrays\n",
            "[[116.266  125.962  136.7084]\n",
            " [237.316  257.812  280.5284]\n",
            " [761.866  829.162  903.7484]]\n"
          ]
        }
      ]
    },
    {
      "cell_type": "markdown",
      "source": [
        "# **Topic 8: Questions on NumPy Statistics**"
      ],
      "metadata": {
        "id": "3eB4aGyHQoVv"
      }
    },
    {
      "cell_type": "code",
      "source": [
        "#Compute the median of the flattened NumPy array\n",
        "array = np.array([1, 2, 3, 4, 5])\n",
        "r = np.median(array)\n",
        "print(\"01 - Compute the median of the flattened NumPy array\")\n",
        "print(r)"
      ],
      "metadata": {
        "colab": {
          "base_uri": "https://localhost:8080/"
        },
        "id": "W_Bp_7OuQtCo",
        "outputId": "b49001f8-b343-41a9-8d90-260e5cd88b45"
      },
      "execution_count": null,
      "outputs": [
        {
          "output_type": "stream",
          "name": "stdout",
          "text": [
            "01 - Compute the median of the flattened NumPy array\n",
            "3.0\n"
          ]
        }
      ]
    },
    {
      "cell_type": "code",
      "source": [
        "#Find Mean of a List of Numpy Array\n",
        "lista = (np.array([1, 2, 3]), np.array([4, 5, 6]), np.array([7, 8, 9]))\n",
        "r = []\n",
        "for array in lista:\n",
        "    r.append(np.mean(array))\n",
        "print(\"02 - Find Mean of a List of Numpy Array\")\n",
        "print(r)"
      ],
      "metadata": {
        "colab": {
          "base_uri": "https://localhost:8080/"
        },
        "id": "h6foe2KAQw14",
        "outputId": "a4866b59-1519-4dc2-8326-3d1c7e03dea6"
      },
      "execution_count": null,
      "outputs": [
        {
          "output_type": "stream",
          "name": "stdout",
          "text": [
            "02 - Find Mean of a List of Numpy Array\n",
            "[2.0, 5.0, 8.0]\n"
          ]
        }
      ]
    },
    {
      "cell_type": "code",
      "source": [
        "#Calculate the mean of array ignoring the NaN value\n",
        "array = np.array([1, 2, np.nan, 3, 4, np.nan])\n",
        "r = np.nanmean(array)\n",
        "print(\"03 - Calculate the mean of array ignoring the NaN value\")\n",
        "print(r)"
      ],
      "metadata": {
        "colab": {
          "base_uri": "https://localhost:8080/"
        },
        "id": "m9AxNo0pQw4o",
        "outputId": "551e52e2-0d69-40cf-8f8d-2a6f3e7b3902"
      },
      "execution_count": null,
      "outputs": [
        {
          "output_type": "stream",
          "name": "stdout",
          "text": [
            "03 - Calculate the mean of array ignoring the NaN value\n",
            "2.5\n"
          ]
        }
      ]
    },
    {
      "cell_type": "code",
      "source": [
        "#Get the mean value from given matrix\n",
        "array = np.array([[1, 2, 3], [4, 5, 6], [7, 8, 9]])\n",
        "r = array.mean()\n",
        "print(\"04 - Get the mean value from given matrix\")\n",
        "print(r)"
      ],
      "metadata": {
        "colab": {
          "base_uri": "https://localhost:8080/"
        },
        "id": "Sam8sq91Qw7y",
        "outputId": "24c2cf66-e304-424f-a397-9eb97d6d02d7"
      },
      "execution_count": null,
      "outputs": [
        {
          "output_type": "stream",
          "name": "stdout",
          "text": [
            "04 - Get the mean value from given matrix\n",
            "5.0\n"
          ]
        }
      ]
    },
    {
      "cell_type": "code",
      "source": [
        "#Compute the variance of the NumPy array\n",
        "array = np.array([1, 2, 3, 4, 5, 6])\n",
        "r = np.var(array)\n",
        "print(\"05 - Compute the variance of the NumPy array\")\n",
        "print(r)"
      ],
      "metadata": {
        "colab": {
          "base_uri": "https://localhost:8080/"
        },
        "id": "bKpTamcoQw-h",
        "outputId": "3c9f6364-4121-4415-cea7-f5c9c076d858"
      },
      "execution_count": null,
      "outputs": [
        {
          "output_type": "stream",
          "name": "stdout",
          "text": [
            "05 - Compute the variance of the NumPy array\n",
            "2.9166666666666665\n"
          ]
        }
      ]
    },
    {
      "cell_type": "code",
      "source": [
        "#Compute the standard deviation of the NumPy array\n",
        "array = np.array([1, 2, 3, 4, 5, 6])\n",
        "r = np.std(array)\n",
        "print(\"06 - Compute the standard deviation of the NumPy array\")\n",
        "print(r)"
      ],
      "metadata": {
        "colab": {
          "base_uri": "https://localhost:8080/"
        },
        "id": "Vp9CNiJUQxFZ",
        "outputId": "3d3a8d1d-1998-428e-f997-2bc7e0c84daa"
      },
      "execution_count": null,
      "outputs": [
        {
          "output_type": "stream",
          "name": "stdout",
          "text": [
            "06 - Compute the standard deviation of the NumPy array\n",
            "1.707825127659933\n"
          ]
        }
      ]
    },
    {
      "cell_type": "code",
      "source": [
        "#Compute pearson product-moment correlation coefficients of two given NumPy arrays\n",
        "array = np.array([1, 2, 3, 4, 5])\n",
        "array2 = np.array([6, 7, 8, 9, 10])\n",
        "r = np.corrcoef(array, array2)\n",
        "print(\"07 - Compute pearson product-moment correlation coefficients of two given NumPy arrays\")\n",
        "print(r)"
      ],
      "metadata": {
        "colab": {
          "base_uri": "https://localhost:8080/"
        },
        "id": "tzQ4J4SJQxIJ",
        "outputId": "849d19c2-e9dd-44bc-85af-0549564853a0"
      },
      "execution_count": null,
      "outputs": [
        {
          "output_type": "stream",
          "name": "stdout",
          "text": [
            "07 - Compute pearson product-moment correlation coefficients of two given NumPy arrays\n",
            "[[1. 1.]\n",
            " [1. 1.]]\n"
          ]
        }
      ]
    },
    {
      "cell_type": "code",
      "source": [
        "#Calculate the mean across dimension in a 2D NumPy array\n",
        "array = np.array([[1, 2, 3], [4, 5, 6], [7, 8, 9]])\n",
        "row_mean = np.mean(array, axis=1)\n",
        "column_mean = np.mean(array, axis=0)\n",
        "print(\"08 - Calculate the mean across dimension in a 2D NumPy array\")\n",
        "for i in range(array.shape[0]):\n",
        "    print(f\"Row mean {i}:\", row_mean[i])\n",
        "for i in range(array.shape[1]):\n",
        "    print(f\"Column mean {i}:\", column_mean[i])"
      ],
      "metadata": {
        "colab": {
          "base_uri": "https://localhost:8080/"
        },
        "id": "piOuoDZDQxLY",
        "outputId": "9bf79245-96fe-449d-e2cb-7650a662c691"
      },
      "execution_count": null,
      "outputs": [
        {
          "output_type": "stream",
          "name": "stdout",
          "text": [
            "08 - Calculate the mean across dimension in a 2D NumPy array\n",
            "Row mean 0: 2.0\n",
            "Row mean 1: 5.0\n",
            "Row mean 2: 8.0\n",
            "Column mean 0: 4.0\n",
            "Column mean 1: 5.0\n",
            "Column mean 2: 6.0\n"
          ]
        }
      ]
    },
    {
      "cell_type": "code",
      "source": [
        "#Calculate the average, variance and standard deviation in Python using NumPy\n",
        "array = np.array([1, 2, 3, 4, 5])\n",
        "avr = np.average(array)\n",
        "var = np.var(array)\n",
        "std = np.std(array)\n",
        "print(\"09 - Calculate the average, variance and standard deviation in Python using NumPy\")\n",
        "print('Average:', avr)\n",
        "print('Variance:', var)\n",
        "print('Std Deviation:', std)"
      ],
      "metadata": {
        "colab": {
          "base_uri": "https://localhost:8080/"
        },
        "id": "sC1rsSHiQxOd",
        "outputId": "7ff11a7a-a173-4679-fed2-fd25455e8481"
      },
      "execution_count": null,
      "outputs": [
        {
          "output_type": "stream",
          "name": "stdout",
          "text": [
            "09 - Calculate the average, variance and standard deviation in Python using NumPy\n",
            "Average: 3.0\n",
            "Variance: 2.0\n",
            "Std Deviation: 1.4142135623730951\n"
          ]
        }
      ]
    },
    {
      "cell_type": "code",
      "source": [
        "#Describe a NumPy Array in Python\n",
        "r = np.array([[1, 2, 3], [4, 5, 6], [7, 8, 9]])\n",
        "print(\"10 - Describe a NumPy Array in Python\")\n",
        "print(r)"
      ],
      "metadata": {
        "colab": {
          "base_uri": "https://localhost:8080/"
        },
        "id": "aboRAgt6QxYW",
        "outputId": "28756499-6e99-446b-b4bd-e8c95800a57f"
      },
      "execution_count": null,
      "outputs": [
        {
          "output_type": "stream",
          "name": "stdout",
          "text": [
            "10 - Describe a NumPy Array in Python\n",
            "[[1 2 3]\n",
            " [4 5 6]\n",
            " [7 8 9]]\n"
          ]
        }
      ]
    },
    {
      "cell_type": "markdown",
      "source": [
        "# **Topic 9: Questions on Polynomial**"
      ],
      "metadata": {
        "id": "roC2506UVzMs"
      }
    },
    {
      "cell_type": "code",
      "source": [
        "#Define a polynomial function\n",
        "f = np.poly1d([1, 2, 3])\n",
        "print(\"01 - Define a polynomial function\")\n",
        "print(r)"
      ],
      "metadata": {
        "colab": {
          "base_uri": "https://localhost:8080/"
        },
        "id": "tMgbp3inV3I5",
        "outputId": "ff119535-6d04-472e-8554-fb978ea17c42"
      },
      "execution_count": null,
      "outputs": [
        {
          "output_type": "stream",
          "name": "stdout",
          "text": [
            "01 - Define a polynomial function\n",
            "[[1 2 3]\n",
            " [4 5 6]\n",
            " [7 8 9]]\n"
          ]
        }
      ]
    },
    {
      "cell_type": "code",
      "source": [
        "#How to add one polynomial to another using NumPy in Python?\n",
        "func = np.poly1d([1, 2, 3])\n",
        "func2 = np.poly1d([4, 5, 6])\n",
        "r = np.polyadd(func, func2)\n",
        "print(\"02 - How to add one polynomial to another using NumPy in Python?\")\n",
        "print(r)"
      ],
      "metadata": {
        "colab": {
          "base_uri": "https://localhost:8080/"
        },
        "id": "JXeQig3-WSxv",
        "outputId": "2d3b4fab-19fa-490c-f057-5a532727e4da"
      },
      "execution_count": null,
      "outputs": [
        {
          "output_type": "stream",
          "name": "stdout",
          "text": [
            "02 - How to add one polynomial to another using NumPy in Python?\n",
            "   2\n",
            "5 x + 7 x + 9\n"
          ]
        }
      ]
    },
    {
      "cell_type": "code",
      "source": [
        "#How to subtract one polynomial to another using NumPy in Python?\n",
        "func = np.poly1d([1, 2, 3])\n",
        "func2 = np.poly1d([4, 5, 6])\n",
        "r = np.polysub(func, func2)\n",
        "print(\"03 - How to subtract one polynomial to another using NumPy in Python?\")\n",
        "print(r)"
      ],
      "metadata": {
        "colab": {
          "base_uri": "https://localhost:8080/"
        },
        "id": "kaZlTDo0WS0a",
        "outputId": "94885dc1-c709-4f4f-d2e2-b69e0a1e0437"
      },
      "execution_count": null,
      "outputs": [
        {
          "output_type": "stream",
          "name": "stdout",
          "text": [
            "03 - How to subtract one polynomial to another using NumPy in Python?\n",
            "    2\n",
            "-3 x - 3 x - 3\n"
          ]
        }
      ]
    },
    {
      "cell_type": "code",
      "source": [
        "#How to multiply a polynomial to another using NumPy in Python?\n",
        "func = np.poly1d([1, 2, 3])\n",
        "func2 = np.poly1d([4, 5, 6])\n",
        "r = np.polymul(func, func2)\n",
        "print(\"04 - How to multiply a polynomial to another using NumPy in Python?\")\n",
        "print(r)"
      ],
      "metadata": {
        "colab": {
          "base_uri": "https://localhost:8080/"
        },
        "id": "grzBlW1LWS3B",
        "outputId": "91427e58-6f58-4c2f-ca96-d2551f0058d4"
      },
      "execution_count": null,
      "outputs": [
        {
          "output_type": "stream",
          "name": "stdout",
          "text": [
            "04 - How to multiply a polynomial to another using NumPy in Python?\n",
            "   4      3      2\n",
            "4 x + 13 x + 28 x + 27 x + 18\n"
          ]
        }
      ]
    },
    {
      "cell_type": "code",
      "source": [
        "#How to divide a polynomial to another using NumPy in Python?\n",
        "func = np.poly1d([1, 3, 2])\n",
        "func2 = np.poly1d([1, 2])\n",
        "q, r = np.polynomial.polynomial.polydiv(func, func2)\n",
        "print(\"05 - How to divide a polynomial to another using NumPy in Python?\")\n",
        "print(q, r)"
      ],
      "metadata": {
        "colab": {
          "base_uri": "https://localhost:8080/"
        },
        "id": "Frma7mHVWS6G",
        "outputId": "6d345530-c637-48f3-ca43-a3518ed1544d"
      },
      "execution_count": null,
      "outputs": [
        {
          "output_type": "stream",
          "name": "stdout",
          "text": [
            "05 - How to divide a polynomial to another using NumPy in Python?\n",
            "[1. 1.] [0.]\n"
          ]
        }
      ]
    },
    {
      "cell_type": "code",
      "source": [
        "#Find the roots of the polynomials using NumPy\n",
        "func = np.poly1d([1, 3, 2])\n",
        "r = np.roots(func)\n",
        "print(\"06 - Find the roots of the polynomials using NumPy\")\n",
        "print(r)"
      ],
      "metadata": {
        "colab": {
          "base_uri": "https://localhost:8080/"
        },
        "id": "4ZDFiVjBWTAy",
        "outputId": "a9f02476-05d8-4229-adb2-373bcdc1de37"
      },
      "execution_count": null,
      "outputs": [
        {
          "output_type": "stream",
          "name": "stdout",
          "text": [
            "06 - Find the roots of the polynomials using NumPy\n",
            "[-2. -1.]\n"
          ]
        }
      ]
    },
    {
      "cell_type": "code",
      "source": [
        "#Evaluate a 2-D polynomial series on the Cartesian product\n",
        "array = np.array([[1, 2, 3], [4, 5, 6]])\n",
        "r = polygrid2d([7, 9], [8, 10], array)\n",
        "print(\"07 - Evaluate a 2-D polynomial series on the Cartesian product\")\n",
        "print(r)"
      ],
      "metadata": {
        "colab": {
          "base_uri": "https://localhost:8080/"
        },
        "id": "B--hvm_sWTD3",
        "outputId": "1a8a2cf2-670b-45d3-d95e-72e042315981"
      },
      "execution_count": null,
      "outputs": [
        {
          "output_type": "stream",
          "name": "stdout",
          "text": [
            "07 - Evaluate a 2-D polynomial series on the Cartesian product\n",
            "[[3205. 4899.]\n",
            " [4061. 6207.]]\n"
          ]
        }
      ]
    },
    {
      "cell_type": "code",
      "source": [
        "#Evaluate a 3-D polynomial series on the Cartesian product\n",
        "array = np.array([[1, 3, 5], [2, 4, 6], [10, 11, 12]])\n",
        "r = polygrid3d([7, 9], [8, 10], [5, 6], array)\n",
        "print(\"08 - Evaluate a 3-D polynomial series on the Cartesian product\")\n",
        "print(r)"
      ],
      "metadata": {
        "colab": {
          "base_uri": "https://localhost:8080/"
        },
        "id": "I8sNn-wQWTIj",
        "outputId": "0bccc507-8df0-4459-9298-120b4e14cfec"
      },
      "execution_count": null,
      "outputs": [
        {
          "output_type": "stream",
          "name": "stdout",
          "text": [
            "08 - Evaluate a 3-D polynomial series on the Cartesian product\n",
            "[[416970. 491223.]\n",
            " [635850. 749079.]]\n"
          ]
        }
      ]
    },
    {
      "cell_type": "markdown",
      "source": [
        "# **Topic 10: Questions on NumPy Strings**"
      ],
      "metadata": {
        "id": "xJYHsbeyZsJH"
      }
    },
    {
      "cell_type": "code",
      "source": [
        "#Repeat all the elements of a NumPy array of strings\n",
        "string = np.array(['a','b','c','d','e'])\n",
        "r = np.char.multiply(string, 2)\n",
        "print(\"01 - Repeat all the elements of a NumPy array of strings\")\n",
        "print(r)"
      ],
      "metadata": {
        "colab": {
          "base_uri": "https://localhost:8080/"
        },
        "id": "sR9QBHleZz5i",
        "outputId": "d946505f-762d-40f2-b3e1-ad811f0cdf38"
      },
      "execution_count": null,
      "outputs": [
        {
          "output_type": "stream",
          "name": "stdout",
          "text": [
            "01 - Repeat all the elements of a NumPy array of strings\n",
            "['aa' 'bb' 'cc' 'dd' 'ee']\n"
          ]
        }
      ]
    },
    {
      "cell_type": "code",
      "source": [
        "#How to split the element of a given NumPy array with spaces?\n",
        "string = np.array(['a b c d e'])\n",
        "r = np.char.split(string)[0]\n",
        "print(\"02 - How to split the element of a given NumPy array with spaces?\")\n",
        "print(r)"
      ],
      "metadata": {
        "colab": {
          "base_uri": "https://localhost:8080/"
        },
        "id": "q8nljRnnZ0C5",
        "outputId": "6bfec18a-2381-47c3-e68f-a8b83f16745b"
      },
      "execution_count": null,
      "outputs": [
        {
          "output_type": "stream",
          "name": "stdout",
          "text": [
            "02 - How to split the element of a given NumPy array with spaces?\n",
            "['a', 'b', 'c', 'd', 'e']\n"
          ]
        }
      ]
    },
    {
      "cell_type": "code",
      "source": [
        "#How to insert a space between characters of all the elements of a given NumPy array?\n",
        "string = np.array(['abcde'])\n",
        "r = np.char.join(\" \", string)\n",
        "print(\"03 - How to insert a space between characters of all the elements of a given NumPy array?\")\n",
        "print(r)"
      ],
      "metadata": {
        "colab": {
          "base_uri": "https://localhost:8080/"
        },
        "id": "-46Nn3M6Z0F4",
        "outputId": "8b6fb731-dffc-41ed-880e-7c158092ffde"
      },
      "execution_count": null,
      "outputs": [
        {
          "output_type": "stream",
          "name": "stdout",
          "text": [
            "03 - How to insert a space between characters of all the elements of a given NumPy array?\n",
            "['a b c d e']\n"
          ]
        }
      ]
    },
    {
      "cell_type": "code",
      "source": [
        "#Find the length of each string element in the Numpy array\n",
        "string = np.array(['One', 'Two', 'Three'])\n",
        "len = np.vectorize(len)\n",
        "r = len(string)\n",
        "print(\"04 - Find the length of each string element in the Numpy array\")\n",
        "print(r)"
      ],
      "metadata": {
        "colab": {
          "base_uri": "https://localhost:8080/"
        },
        "id": "eKAw_HnPZ0IW",
        "outputId": "6a739eb2-17b5-4b5e-9415-6ee9237243a9"
      },
      "execution_count": null,
      "outputs": [
        {
          "output_type": "stream",
          "name": "stdout",
          "text": [
            "04 - Find the length of each string element in the Numpy array\n",
            "[3 3 5]\n"
          ]
        }
      ]
    },
    {
      "cell_type": "code",
      "source": [
        "#Swap the case of an array of string\n",
        "string = np.array(['One', 'Two', 'Three'])\n",
        "r = np.char.swapcase(string)\n",
        "print(\"05 - Swap the case of an array of string\")\n",
        "print(r)"
      ],
      "metadata": {
        "colab": {
          "base_uri": "https://localhost:8080/"
        },
        "id": "-IUYcu3vZ0K6",
        "outputId": "45e0891e-0b59-4b38-d37e-fe91c1c2c6e6"
      },
      "execution_count": null,
      "outputs": [
        {
          "output_type": "stream",
          "name": "stdout",
          "text": [
            "05 - Swap the case of an array of string\n",
            "['oNE' 'tWO' 'tHREE']\n"
          ]
        }
      ]
    },
    {
      "cell_type": "code",
      "source": [
        "#Change the case to uppercase of elements of an array\n",
        "string = np.array(['One', 'Two', 'Three'])\n",
        "r = np.char.upper(string)\n",
        "print(\"06 - Change the case to uppercase of elements of an array\")\n",
        "print(r)"
      ],
      "metadata": {
        "colab": {
          "base_uri": "https://localhost:8080/"
        },
        "id": "chvEllkQZ0N0",
        "outputId": "7d11930f-ad92-4d35-80d7-12606001e4f0"
      },
      "execution_count": null,
      "outputs": [
        {
          "output_type": "stream",
          "name": "stdout",
          "text": [
            "06 - Change the case to uppercase of elements of an array\n",
            "['ONE' 'TWO' 'THREE']\n"
          ]
        }
      ]
    },
    {
      "cell_type": "code",
      "source": [
        "#Change the case to lowercase of elements of an array\n",
        "string = np.array(['One', 'Two', 'Three'])\n",
        "r = np.char.lower(string)\n",
        "print(\"07 - Change the case to lowercase of elements of an array\")\n",
        "print(r)"
      ],
      "metadata": {
        "colab": {
          "base_uri": "https://localhost:8080/"
        },
        "id": "pjgiKrOpZ0Uo",
        "outputId": "ebb1c02e-d95b-4f40-fd32-da78245ec8ea"
      },
      "execution_count": null,
      "outputs": [
        {
          "output_type": "stream",
          "name": "stdout",
          "text": [
            "07 - Change the case to lowercase of elements of an array\n",
            "['one' 'two' 'three']\n"
          ]
        }
      ]
    },
    {
      "cell_type": "code",
      "source": [
        "#Join String by a seperator\n",
        "string = np.array(['one'])\n",
        "r = np.char.join(\"/\",string)\n",
        "print(\"08 - Join String by a seperator\")\n",
        "print(r)"
      ],
      "metadata": {
        "colab": {
          "base_uri": "https://localhost:8080/"
        },
        "id": "sHXV0H7oZ0X5",
        "outputId": "eeed8136-cf5a-42d4-9432-19a51dfc48c2"
      },
      "execution_count": null,
      "outputs": [
        {
          "output_type": "stream",
          "name": "stdout",
          "text": [
            "08 - Join String by a seperator\n",
            "['o/n/e']\n"
          ]
        }
      ]
    },
    {
      "cell_type": "code",
      "source": [
        "#Check if two same shaped string arrayss one by one\n",
        "string = np.array(['One', 'Two', 'Three'])\n",
        "string2 = np.array(['one', 'Two', 'Threee'])\n",
        "r = np.char.equal(string, string2)\n",
        "print(\"09 - Check if two same shaped string arrayss one by one\")\n",
        "print(r)"
      ],
      "metadata": {
        "colab": {
          "base_uri": "https://localhost:8080/"
        },
        "id": "KYerYGSzZ0a2",
        "outputId": "da36888c-9ecb-40da-9c50-3b89d2aec50c"
      },
      "execution_count": null,
      "outputs": [
        {
          "output_type": "stream",
          "name": "stdout",
          "text": [
            "09 - Check if two same shaped string arrayss one by one\n",
            "[False  True False]\n"
          ]
        }
      ]
    },
    {
      "cell_type": "code",
      "source": [
        "#Count the number of substrings in an array\n",
        "string = np.array(['One, Two, Three'])\n",
        "r = np.char.count(string, ' T')\n",
        "print(\"10 - Count the number of substrings in an array\")\n",
        "print(r)"
      ],
      "metadata": {
        "colab": {
          "base_uri": "https://localhost:8080/"
        },
        "id": "7JCSm90gZ0ek",
        "outputId": "6aedf1ff-a8eb-4d39-abaf-db686e8e0f16"
      },
      "execution_count": null,
      "outputs": [
        {
          "output_type": "stream",
          "name": "stdout",
          "text": [
            "10 - Count the number of substrings in an array\n",
            "[2]\n"
          ]
        }
      ]
    },
    {
      "cell_type": "code",
      "source": [
        "#Find the lowest index of the substring in an array\n",
        "string = np.array(['One', 'Two', 'Three'])\n",
        "r = np.char.find(string, 'T')\n",
        "print(\"11 - Find the lowest index of the substring in an array\")\n",
        "print(r)"
      ],
      "metadata": {
        "colab": {
          "base_uri": "https://localhost:8080/"
        },
        "id": "a6kBejcvZ0hp",
        "outputId": "7194a5f6-e10c-4dde-b24b-582df563c49c"
      },
      "execution_count": null,
      "outputs": [
        {
          "output_type": "stream",
          "name": "stdout",
          "text": [
            "11 - Find the lowest index of the substring in an array\n",
            "[-1  0  0]\n"
          ]
        }
      ]
    },
    {
      "cell_type": "code",
      "source": [
        "#Get the boolean array when values end with a particular character\n",
        "string = np.array(['One', 'Two', 'Three'])\n",
        "r = np.char.endswith(string,'e')\n",
        "print(\"12 - Get the boolean array when values end with a particular character\")\n",
        "print(r)"
      ],
      "metadata": {
        "colab": {
          "base_uri": "https://localhost:8080/"
        },
        "id": "FhymVz0sZ0kr",
        "outputId": "7ea7497b-59b5-4789-96dd-0f441a35567f"
      },
      "execution_count": null,
      "outputs": [
        {
          "output_type": "stream",
          "name": "stdout",
          "text": [
            "12 - Get the boolean array when values end with a particular character\n",
            "[ True False  True]\n"
          ]
        }
      ]
    },
    {
      "cell_type": "markdown",
      "source": [
        "# **Topic 11: More Questions on NumPy**"
      ],
      "metadata": {
        "id": "YouuE6xEfzp2"
      }
    },
    {
      "cell_type": "code",
      "source": [
        "#Different ways to convert a Python dictionary to a NumPy array\n",
        "dict_created = {0: 0, 1: 1, 2: 8, 3: 27}\n",
        "print(\"01 - Different ways to convert a Python dictionary to a NumPy array\")\n",
        "print(type(dict_created))\n",
        "res_array = np.array(list(dict_created.items()))\n",
        "print(res_array)\n",
        "print(type(res_array))"
      ],
      "metadata": {
        "colab": {
          "base_uri": "https://localhost:8080/"
        },
        "id": "cRRz54fQZ0ue",
        "outputId": "e3216643-1e9b-4728-ed8b-bc9c69f62479"
      },
      "execution_count": null,
      "outputs": [
        {
          "output_type": "stream",
          "name": "stdout",
          "text": [
            "01 - Different ways to convert a Python dictionary to a NumPy array\n",
            "<class 'dict'>\n",
            "[[ 0  0]\n",
            " [ 1  1]\n",
            " [ 2  8]\n",
            " [ 3 27]]\n",
            "<class 'numpy.ndarray'>\n"
          ]
        }
      ]
    },
    {
      "cell_type": "code",
      "source": [
        "#How to convert a list and tuple into NumPy arrays?\n",
        "list1 = [3, 4, 5, 6]\n",
        "print(\"02 - How to convert a list and tuple into NumPy arrays?\")\n",
        "print(type(list1))                #lista\n",
        "print(list1)\n",
        "print()\n",
        "array1 = np.asarray(list1)        #conversão\n",
        "print(type(array1))\n",
        "print(array1)\n",
        "print()\n",
        "tuple1 = ([8, 4, 6], [1, 2, 3])   #tupla\n",
        "print(type(tuple1))\n",
        "print(tuple1)\n",
        "print()\n",
        "array2 = np.asarray(tuple1)       #conversão\n",
        "print(type(array2))\n",
        "print(array2)"
      ],
      "metadata": {
        "colab": {
          "base_uri": "https://localhost:8080/"
        },
        "id": "3KwS5jozZ0yW",
        "outputId": "f5a1d5fb-233d-4ef1-c869-19dd4885720c"
      },
      "execution_count": null,
      "outputs": [
        {
          "output_type": "stream",
          "name": "stdout",
          "text": [
            "02 - How to convert a list and tuple into NumPy arrays?\n",
            "<class 'list'>\n",
            "[3, 4, 5, 6]\n",
            "\n",
            "<class 'numpy.ndarray'>\n",
            "[3 4 5 6]\n",
            "\n",
            "<class 'tuple'>\n",
            "([8, 4, 6], [1, 2, 3])\n",
            "\n",
            "<class 'numpy.ndarray'>\n",
            "[[8 4 6]\n",
            " [1 2 3]]\n"
          ]
        }
      ]
    },
    {
      "cell_type": "code",
      "source": [
        "#Ways to convert array of strings to array of floats\n",
        "array = np.array([\"1.1\", \"1.5\", \"2.7\", \"8.9\"])\n",
        "conv1 = array.astype(np.float64)\n",
        "conv2 = np.fromstring(', '.join(array), dtype = np.float64, sep =', ' )\n",
        "print(\"03 - Ways to convert array of strings to array of floats\")\n",
        "print(conv1)\n",
        "print(conv2)"
      ],
      "metadata": {
        "colab": {
          "base_uri": "https://localhost:8080/"
        },
        "id": "vRH0Zk5oaP5T",
        "outputId": "c6cdace1-dc5b-4b14-e79a-0bdb0680e606"
      },
      "execution_count": null,
      "outputs": [
        {
          "output_type": "stream",
          "name": "stdout",
          "text": [
            "03 - Ways to convert array of strings to array of floats\n",
            "[1.1 1.5 2.7 8.9]\n",
            "[1.1 1.5 2.7 8.9]\n"
          ]
        }
      ]
    },
    {
      "cell_type": "code",
      "source": [
        "#Convert a NumPy array into a csv file\n",
        "array = np.arange(1,11).reshape(2,5)\n",
        "DF = pd.DataFrame(array)\n",
        "DF.to_csv(\"data1.csv\") #save in csv\n",
        "print(\"04 - Convert a NumPy array into a csv file\")\n",
        "print(DF)"
      ],
      "metadata": {
        "colab": {
          "base_uri": "https://localhost:8080/"
        },
        "id": "MUTx3WrxaQAA",
        "outputId": "20d4c2da-36d1-45ff-d05e-bdcb09fc7d56"
      },
      "execution_count": null,
      "outputs": [
        {
          "output_type": "stream",
          "name": "stdout",
          "text": [
            "04 - Convert a NumPy array into a csv file\n",
            "   0  1  2  3   4\n",
            "0  1  2  3  4   5\n",
            "1  6  7  8  9  10\n"
          ]
        }
      ]
    },
    {
      "cell_type": "code",
      "source": [
        "#How to Convert an image to NumPy array and save it to CSV file using Python?\n",
        "img = Image.open('drive/MyDrive/cacto.jpg')\n",
        "img_array = np.asarray(img)\n",
        "print(\"05 - How to Convert an image to NumPy array and save it to CSV file using Python?\")\n",
        "print(img_array.shape)"
      ],
      "metadata": {
        "colab": {
          "base_uri": "https://localhost:8080/"
        },
        "id": "Erdob4ZiaQDF",
        "outputId": "e4f2ff44-6580-472f-c32d-2b4b26f90695"
      },
      "execution_count": null,
      "outputs": [
        {
          "output_type": "stream",
          "name": "stdout",
          "text": [
            "05 - How to Convert an image to NumPy array and save it to CSV file using Python?\n",
            "(1024, 1024, 3)\n"
          ]
        }
      ]
    },
    {
      "cell_type": "code",
      "source": [
        "#How to save a NumPy array to a text file?\n",
        "array = np.array([1, 2, 3, 4, 5])\n",
        "file = open(\"file1.txt\", \"w+\")\n",
        "content = str(array)\n",
        "file.write(content)\n",
        "file.close()\n",
        "file = open(\"file1.txt\", \"r\")\n",
        "content = file.read()\n",
        "print(\"06 - How to save a NumPy array to a text file?\")\n",
        "print(\"Content in file1.txt:\\n\", content)\n",
        "file.close()"
      ],
      "metadata": {
        "colab": {
          "base_uri": "https://localhost:8080/"
        },
        "id": "wH9B9u-aaQHS",
        "outputId": "92b1016f-cb47-4225-e76f-cd7d5e980535"
      },
      "execution_count": null,
      "outputs": [
        {
          "output_type": "stream",
          "name": "stdout",
          "text": [
            "06 - How to save a NumPy array to a text file?\n",
            "Content in file1.txt:\n",
            " [1 2 3 4 5]\n"
          ]
        }
      ]
    },
    {
      "cell_type": "code",
      "source": [
        "#Load data from a text file\n",
        "file = open(\"file1.txt\", \"r\")\n",
        "content = file.read()\n",
        "print(\"07 - Load data from a text file\")\n",
        "print(\"Content in file1.txt:\\n\", content)\n",
        "file.close()"
      ],
      "metadata": {
        "colab": {
          "base_uri": "https://localhost:8080/"
        },
        "id": "S_r8L054aQLQ",
        "outputId": "fe299fff-894a-482b-ffb3-5dafd6121f1b"
      },
      "execution_count": null,
      "outputs": [
        {
          "output_type": "stream",
          "name": "stdout",
          "text": [
            "07 - Load data from a text file\n",
            "Content in file1.txt:\n",
            " [1 2 3 4 5]\n"
          ]
        }
      ]
    },
    {
      "cell_type": "code",
      "source": [
        "#Plot line graph from NumPy array\n",
        "x = np.arange(1, 11)\n",
        "y = np.array([100, 10, 300, 20, 500, 60, 700, 80, 900, 100])\n",
        "print(\"08 - Plot line graph from NumPy array\")\n",
        "plt.title(\"Line graph\")\n",
        "plt.xlabel(\"X axis\")\n",
        "plt.ylabel(\"Y axis\")\n",
        "plt.plot(x, y, color =\"green\")\n",
        "plt.show()"
      ],
      "metadata": {
        "colab": {
          "base_uri": "https://localhost:8080/",
          "height": 490
        },
        "id": "CTcebVqkaQPL",
        "outputId": "a645769f-c1ff-4935-e95a-4d15f7d62252"
      },
      "execution_count": null,
      "outputs": [
        {
          "output_type": "stream",
          "name": "stdout",
          "text": [
            "08 - Plot line graph from NumPy array\n"
          ]
        },
        {
          "output_type": "display_data",
          "data": {
            "text/plain": [
              "<Figure size 640x480 with 1 Axes>"
            ],
            "image/png": "[encoded data removed]"
          },
          "metadata": {}
        }
      ]
    },
    {
      "cell_type": "code",
      "source": [
        "#Create Histogram using NumPy\n",
        "a = np.array([22, 87, 5, 43, 56, 73, 55, 54, 11, 20, 51, 5, 79, 31, 27])\n",
        "print(\"09 - Create Histogram using NumPy\")\n",
        "plt.hist(a, bins = [0, 20, 40, 60, 80, 100])\n",
        "plt.title(\"histogram\")\n",
        "plt.show()"
      ],
      "metadata": {
        "colab": {
          "base_uri": "https://localhost:8080/",
          "height": 470
        },
        "id": "AVcL906UZ03C",
        "outputId": "6265ecee-202a-49c4-b926-561343129764"
      },
      "execution_count": null,
      "outputs": [
        {
          "output_type": "stream",
          "name": "stdout",
          "text": [
            "09 - Create Histogram using NumPy\n"
          ]
        },
        {
          "output_type": "display_data",
          "data": {
            "text/plain": [
              "<Figure size 640x480 with 1 Axes>"
            ],
            "image/png": "[encoded data removed]"
          },
          "metadata": {}
        }
      ]
    }
  ]
}